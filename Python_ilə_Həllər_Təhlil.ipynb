{
  "nbformat": 4,
  "nbformat_minor": 0,
  "metadata": {
    "colab": {
      "name": "Python ilə Həllər - Təhlil.ipynb",
      "provenance": [],
      "collapsed_sections": [],
      "authorship_tag": "ABX9TyPnLPvVWgH+YuF1Jjo1v9gu",
      "include_colab_link": true
    },
    "kernelspec": {
      "name": "python3",
      "display_name": "Python 3"
    },
    "language_info": {
      "name": "python"
    }
  },
  "cells": [
    {
      "cell_type": "markdown",
      "metadata": {
        "id": "view-in-github",
        "colab_type": "text"
      },
      "source": [
        "<a href=\"https://colab.research.google.com/github/EmilSeyfullayev/Technical-nterview/blob/main/Python_il%C9%99_H%C9%99ll%C9%99r_T%C9%99hlil.ipynb\" target=\"_parent\"><img src=\"https://colab.research.google.com/assets/colab-badge.svg\" alt=\"Open In Colab\"/></a>"
      ]
    },
    {
      "cell_type": "markdown",
      "source": [
        "# İlk öncə lazımi kitabxanaları yükləyək"
      ],
      "metadata": {
        "id": "fMM4L7wz9ONT"
      }
    },
    {
      "cell_type": "code",
      "execution_count": null,
      "metadata": {
        "id": "LO581xAP7Zsg",
        "colab": {
          "base_uri": "https://localhost:8080/"
        },
        "outputId": "67fe5797-c906-4df9-a1c6-97579dfec10f"
      },
      "outputs": [
        {
          "output_type": "stream",
          "name": "stdout",
          "text": [
            "Mounted at /content/drive\n"
          ]
        }
      ],
      "source": [
        "import pandas as pd\n",
        "import numpy as np\n",
        "import matplotlib.pyplot as plt\n",
        "import seaborn as sns\n",
        "sns.set_style('whitegrid')\n",
        "from google.colab import drive\n",
        "drive.mount('/content/drive')\n",
        "\n",
        "df = pd.read_excel('/content/drive/MyDrive/Ministry of Transportation - Task/Task.xlsx')\n",
        "df.columns=df.columns.str.replace('\\n', '')\n",
        "\n",
        "df['Hərəkət marşrutu başlanğıc'] = [i.split('-')[0] for i in df['HƏRƏKƏT MARŞRUTU']]\n",
        "df['Hərəkət marşrutu təyinat'] = [i.split('-')[1] for i in df['HƏRƏKƏT MARŞRUTU']]\n",
        "df['Avtomobil nömrəsi'] = [i.split(':-')[1] for i in df['AVTOMOBİLİN NÖVÜ/NÖMRƏSİ']]\n",
        "df['Malın çəkisi tonla'] = df['MALIN ÇƏKİSİ (kq)']/1000\n",
        "\n",
        "transit = df[\n",
        "    (df['ÖDƏNİLƏN MƏBLƏĞ'].isin([0, 100, 150])) &\n",
        "    (df['İSTİ-QAMƏT'].isin([1])) &\n",
        "    (df['GÜZƏŞT NÖVÜ'].isin(['Digər azad olmalar', 'Kvota', 'Yoxdur', 'BNF icazəsi ilə (jurnal)'])) &\n",
        "    (~df['Hərəkət marşrutu başlanğıc'].isin(['Azərbaycan'])) &\n",
        "    (~df['Hərəkət marşrutu təyinat'].isin(['Azərbaycan']))\n",
        "]"
      ]
    },
    {
      "cell_type": "markdown",
      "source": [
        "# Tapşırıq №1"
      ],
      "metadata": {
        "id": "VQL1Athg2tKB"
      }
    },
    {
      "cell_type": "code",
      "source": [
        "transit.groupby('GÖMRÜK ORQANI').agg(\n",
        "    {'Malın çəkisi tonla':'sum', \n",
        "     'Avtomobil nömrəsi' :'count'}\n",
        ").round().sort_values(\n",
        "    'Malın çəkisi tonla', ascending=False\n",
        ").rename(columns={\"Avtomobil nömrəsi\":\"NV-lərin sayı\"}).reset_index()"
      ],
      "metadata": {
        "colab": {
          "base_uri": "https://localhost:8080/",
          "height": 425
        },
        "id": "NQOHsrNT2uFh",
        "outputId": "611c884a-a3e7-46ba-bbdf-8ba88a0b745c"
      },
      "execution_count": null,
      "outputs": [
        {
          "output_type": "execute_result",
          "data": {
            "text/plain": [
              "                          GÖMRÜK ORQANI  Malın çəkisi tonla  NV-lərin sayı\n",
              "0                            Astara g/p             46275.0           2672\n",
              "1                             Samur g/p             27756.0           2117\n",
              "2                     Qırmızı körpü g/p             23349.0           2182\n",
              "3                         Şahtaxtı g/p             22551.0           1034\n",
              "4                  Qubadlı gömrük postu             18293.0           1172\n",
              "5                             Culfa g/p             15553.0            685\n",
              "6                         Biləsuvar g/p             15178.0            833\n",
              "7   Beynəlxalq Dəniz Ticarət Limanı g/p              7607.0            402\n",
              "8                           Sədərək g/p              4309.0            833\n",
              "9                          Mazımçay g/p               973.0            142\n",
              "10                                  DGK                26.0              1\n",
              "11                      Şirvanovka g/p                 0.0            641"
            ],
            "text/html": [
              "\n",
              "  <div id=\"df-815653c6-a59d-4c44-a94b-56b75bbbe7fc\">\n",
              "    <div class=\"colab-df-container\">\n",
              "      <div>\n",
              "<style scoped>\n",
              "    .dataframe tbody tr th:only-of-type {\n",
              "        vertical-align: middle;\n",
              "    }\n",
              "\n",
              "    .dataframe tbody tr th {\n",
              "        vertical-align: top;\n",
              "    }\n",
              "\n",
              "    .dataframe thead th {\n",
              "        text-align: right;\n",
              "    }\n",
              "</style>\n",
              "<table border=\"1\" class=\"dataframe\">\n",
              "  <thead>\n",
              "    <tr style=\"text-align: right;\">\n",
              "      <th></th>\n",
              "      <th>GÖMRÜK ORQANI</th>\n",
              "      <th>Malın çəkisi tonla</th>\n",
              "      <th>NV-lərin sayı</th>\n",
              "    </tr>\n",
              "  </thead>\n",
              "  <tbody>\n",
              "    <tr>\n",
              "      <th>0</th>\n",
              "      <td>Astara g/p</td>\n",
              "      <td>46275.0</td>\n",
              "      <td>2672</td>\n",
              "    </tr>\n",
              "    <tr>\n",
              "      <th>1</th>\n",
              "      <td>Samur g/p</td>\n",
              "      <td>27756.0</td>\n",
              "      <td>2117</td>\n",
              "    </tr>\n",
              "    <tr>\n",
              "      <th>2</th>\n",
              "      <td>Qırmızı körpü g/p</td>\n",
              "      <td>23349.0</td>\n",
              "      <td>2182</td>\n",
              "    </tr>\n",
              "    <tr>\n",
              "      <th>3</th>\n",
              "      <td>Şahtaxtı g/p</td>\n",
              "      <td>22551.0</td>\n",
              "      <td>1034</td>\n",
              "    </tr>\n",
              "    <tr>\n",
              "      <th>4</th>\n",
              "      <td>Qubadlı gömrük postu</td>\n",
              "      <td>18293.0</td>\n",
              "      <td>1172</td>\n",
              "    </tr>\n",
              "    <tr>\n",
              "      <th>5</th>\n",
              "      <td>Culfa g/p</td>\n",
              "      <td>15553.0</td>\n",
              "      <td>685</td>\n",
              "    </tr>\n",
              "    <tr>\n",
              "      <th>6</th>\n",
              "      <td>Biləsuvar g/p</td>\n",
              "      <td>15178.0</td>\n",
              "      <td>833</td>\n",
              "    </tr>\n",
              "    <tr>\n",
              "      <th>7</th>\n",
              "      <td>Beynəlxalq Dəniz Ticarət Limanı g/p</td>\n",
              "      <td>7607.0</td>\n",
              "      <td>402</td>\n",
              "    </tr>\n",
              "    <tr>\n",
              "      <th>8</th>\n",
              "      <td>Sədərək g/p</td>\n",
              "      <td>4309.0</td>\n",
              "      <td>833</td>\n",
              "    </tr>\n",
              "    <tr>\n",
              "      <th>9</th>\n",
              "      <td>Mazımçay g/p</td>\n",
              "      <td>973.0</td>\n",
              "      <td>142</td>\n",
              "    </tr>\n",
              "    <tr>\n",
              "      <th>10</th>\n",
              "      <td>DGK</td>\n",
              "      <td>26.0</td>\n",
              "      <td>1</td>\n",
              "    </tr>\n",
              "    <tr>\n",
              "      <th>11</th>\n",
              "      <td>Şirvanovka g/p</td>\n",
              "      <td>0.0</td>\n",
              "      <td>641</td>\n",
              "    </tr>\n",
              "  </tbody>\n",
              "</table>\n",
              "</div>\n",
              "      <button class=\"colab-df-convert\" onclick=\"convertToInteractive('df-815653c6-a59d-4c44-a94b-56b75bbbe7fc')\"\n",
              "              title=\"Convert this dataframe to an interactive table.\"\n",
              "              style=\"display:none;\">\n",
              "        \n",
              "  <svg xmlns=\"http://www.w3.org/2000/svg\" height=\"24px\"viewBox=\"0 0 24 24\"\n",
              "       width=\"24px\">\n",
              "    <path d=\"M0 0h24v24H0V0z\" fill=\"none\"/>\n",
              "    <path d=\"M18.56 5.44l.94 2.06.94-2.06 2.06-.94-2.06-.94-.94-2.06-.94 2.06-2.06.94zm-11 1L8.5 8.5l.94-2.06 2.06-.94-2.06-.94L8.5 2.5l-.94 2.06-2.06.94zm10 10l.94 2.06.94-2.06 2.06-.94-2.06-.94-.94-2.06-.94 2.06-2.06.94z\"/><path d=\"M17.41 7.96l-1.37-1.37c-.4-.4-.92-.59-1.43-.59-.52 0-1.04.2-1.43.59L10.3 9.45l-7.72 7.72c-.78.78-.78 2.05 0 2.83L4 21.41c.39.39.9.59 1.41.59.51 0 1.02-.2 1.41-.59l7.78-7.78 2.81-2.81c.8-.78.8-2.07 0-2.86zM5.41 20L4 18.59l7.72-7.72 1.47 1.35L5.41 20z\"/>\n",
              "  </svg>\n",
              "      </button>\n",
              "      \n",
              "  <style>\n",
              "    .colab-df-container {\n",
              "      display:flex;\n",
              "      flex-wrap:wrap;\n",
              "      gap: 12px;\n",
              "    }\n",
              "\n",
              "    .colab-df-convert {\n",
              "      background-color: #E8F0FE;\n",
              "      border: none;\n",
              "      border-radius: 50%;\n",
              "      cursor: pointer;\n",
              "      display: none;\n",
              "      fill: #1967D2;\n",
              "      height: 32px;\n",
              "      padding: 0 0 0 0;\n",
              "      width: 32px;\n",
              "    }\n",
              "\n",
              "    .colab-df-convert:hover {\n",
              "      background-color: #E2EBFA;\n",
              "      box-shadow: 0px 1px 2px rgba(60, 64, 67, 0.3), 0px 1px 3px 1px rgba(60, 64, 67, 0.15);\n",
              "      fill: #174EA6;\n",
              "    }\n",
              "\n",
              "    [theme=dark] .colab-df-convert {\n",
              "      background-color: #3B4455;\n",
              "      fill: #D2E3FC;\n",
              "    }\n",
              "\n",
              "    [theme=dark] .colab-df-convert:hover {\n",
              "      background-color: #434B5C;\n",
              "      box-shadow: 0px 1px 3px 1px rgba(0, 0, 0, 0.15);\n",
              "      filter: drop-shadow(0px 1px 2px rgba(0, 0, 0, 0.3));\n",
              "      fill: #FFFFFF;\n",
              "    }\n",
              "  </style>\n",
              "\n",
              "      <script>\n",
              "        const buttonEl =\n",
              "          document.querySelector('#df-815653c6-a59d-4c44-a94b-56b75bbbe7fc button.colab-df-convert');\n",
              "        buttonEl.style.display =\n",
              "          google.colab.kernel.accessAllowed ? 'block' : 'none';\n",
              "\n",
              "        async function convertToInteractive(key) {\n",
              "          const element = document.querySelector('#df-815653c6-a59d-4c44-a94b-56b75bbbe7fc');\n",
              "          const dataTable =\n",
              "            await google.colab.kernel.invokeFunction('convertToInteractive',\n",
              "                                                     [key], {});\n",
              "          if (!dataTable) return;\n",
              "\n",
              "          const docLinkHtml = 'Like what you see? Visit the ' +\n",
              "            '<a target=\"_blank\" href=https://colab.research.google.com/notebooks/data_table.ipynb>data table notebook</a>'\n",
              "            + ' to learn more about interactive tables.';\n",
              "          element.innerHTML = '';\n",
              "          dataTable['output_type'] = 'display_data';\n",
              "          await google.colab.output.renderOutput(dataTable, element);\n",
              "          const docLink = document.createElement('div');\n",
              "          docLink.innerHTML = docLinkHtml;\n",
              "          element.appendChild(docLink);\n",
              "        }\n",
              "      </script>\n",
              "    </div>\n",
              "  </div>\n",
              "  "
            ]
          },
          "metadata": {},
          "execution_count": 2
        }
      ]
    },
    {
      "cell_type": "markdown",
      "source": [
        "# Tapşırıq №2.1"
      ],
      "metadata": {
        "id": "wZe29Lks105A"
      }
    },
    {
      "cell_type": "code",
      "source": [
        "transit.groupby('Hərəkət marşrutu başlanğıc').agg(\n",
        "    {'Malın çəkisi tonla':'sum', \n",
        "     'Avtomobil nömrəsi' :'count'}\n",
        ").round().sort_values(\n",
        "    'Malın çəkisi tonla', ascending=False\n",
        ").rename(columns={\"Avtomobil nömrəsi\":\"NV-lərin sayı\"}).head(5).reset_index()"
      ],
      "metadata": {
        "colab": {
          "base_uri": "https://localhost:8080/",
          "height": 206
        },
        "id": "HofTsfap1zIp",
        "outputId": "1b29bf23-7a3c-4a76-b991-96ad7609e8fb"
      },
      "execution_count": null,
      "outputs": [
        {
          "output_type": "execute_result",
          "data": {
            "text/plain": [
              "  Hərəkət marşrutu başlanğıc  Malın çəkisi tonla  NV-lərin sayı\n",
              "0    İran İslam Respublikası            116035.0           6022\n",
              "1                    Türkiyə             18617.0           1742\n",
              "2                     Rusiya             13454.0           2037\n",
              "3                 Qazaxıstan             11134.0            596\n",
              "4                  Gürcüstan              7864.0           1296"
            ],
            "text/html": [
              "\n",
              "  <div id=\"df-1ff76487-5135-480c-9c3f-c5efacb52776\">\n",
              "    <div class=\"colab-df-container\">\n",
              "      <div>\n",
              "<style scoped>\n",
              "    .dataframe tbody tr th:only-of-type {\n",
              "        vertical-align: middle;\n",
              "    }\n",
              "\n",
              "    .dataframe tbody tr th {\n",
              "        vertical-align: top;\n",
              "    }\n",
              "\n",
              "    .dataframe thead th {\n",
              "        text-align: right;\n",
              "    }\n",
              "</style>\n",
              "<table border=\"1\" class=\"dataframe\">\n",
              "  <thead>\n",
              "    <tr style=\"text-align: right;\">\n",
              "      <th></th>\n",
              "      <th>Hərəkət marşrutu başlanğıc</th>\n",
              "      <th>Malın çəkisi tonla</th>\n",
              "      <th>NV-lərin sayı</th>\n",
              "    </tr>\n",
              "  </thead>\n",
              "  <tbody>\n",
              "    <tr>\n",
              "      <th>0</th>\n",
              "      <td>İran İslam Respublikası</td>\n",
              "      <td>116035.0</td>\n",
              "      <td>6022</td>\n",
              "    </tr>\n",
              "    <tr>\n",
              "      <th>1</th>\n",
              "      <td>Türkiyə</td>\n",
              "      <td>18617.0</td>\n",
              "      <td>1742</td>\n",
              "    </tr>\n",
              "    <tr>\n",
              "      <th>2</th>\n",
              "      <td>Rusiya</td>\n",
              "      <td>13454.0</td>\n",
              "      <td>2037</td>\n",
              "    </tr>\n",
              "    <tr>\n",
              "      <th>3</th>\n",
              "      <td>Qazaxıstan</td>\n",
              "      <td>11134.0</td>\n",
              "      <td>596</td>\n",
              "    </tr>\n",
              "    <tr>\n",
              "      <th>4</th>\n",
              "      <td>Gürcüstan</td>\n",
              "      <td>7864.0</td>\n",
              "      <td>1296</td>\n",
              "    </tr>\n",
              "  </tbody>\n",
              "</table>\n",
              "</div>\n",
              "      <button class=\"colab-df-convert\" onclick=\"convertToInteractive('df-1ff76487-5135-480c-9c3f-c5efacb52776')\"\n",
              "              title=\"Convert this dataframe to an interactive table.\"\n",
              "              style=\"display:none;\">\n",
              "        \n",
              "  <svg xmlns=\"http://www.w3.org/2000/svg\" height=\"24px\"viewBox=\"0 0 24 24\"\n",
              "       width=\"24px\">\n",
              "    <path d=\"M0 0h24v24H0V0z\" fill=\"none\"/>\n",
              "    <path d=\"M18.56 5.44l.94 2.06.94-2.06 2.06-.94-2.06-.94-.94-2.06-.94 2.06-2.06.94zm-11 1L8.5 8.5l.94-2.06 2.06-.94-2.06-.94L8.5 2.5l-.94 2.06-2.06.94zm10 10l.94 2.06.94-2.06 2.06-.94-2.06-.94-.94-2.06-.94 2.06-2.06.94z\"/><path d=\"M17.41 7.96l-1.37-1.37c-.4-.4-.92-.59-1.43-.59-.52 0-1.04.2-1.43.59L10.3 9.45l-7.72 7.72c-.78.78-.78 2.05 0 2.83L4 21.41c.39.39.9.59 1.41.59.51 0 1.02-.2 1.41-.59l7.78-7.78 2.81-2.81c.8-.78.8-2.07 0-2.86zM5.41 20L4 18.59l7.72-7.72 1.47 1.35L5.41 20z\"/>\n",
              "  </svg>\n",
              "      </button>\n",
              "      \n",
              "  <style>\n",
              "    .colab-df-container {\n",
              "      display:flex;\n",
              "      flex-wrap:wrap;\n",
              "      gap: 12px;\n",
              "    }\n",
              "\n",
              "    .colab-df-convert {\n",
              "      background-color: #E8F0FE;\n",
              "      border: none;\n",
              "      border-radius: 50%;\n",
              "      cursor: pointer;\n",
              "      display: none;\n",
              "      fill: #1967D2;\n",
              "      height: 32px;\n",
              "      padding: 0 0 0 0;\n",
              "      width: 32px;\n",
              "    }\n",
              "\n",
              "    .colab-df-convert:hover {\n",
              "      background-color: #E2EBFA;\n",
              "      box-shadow: 0px 1px 2px rgba(60, 64, 67, 0.3), 0px 1px 3px 1px rgba(60, 64, 67, 0.15);\n",
              "      fill: #174EA6;\n",
              "    }\n",
              "\n",
              "    [theme=dark] .colab-df-convert {\n",
              "      background-color: #3B4455;\n",
              "      fill: #D2E3FC;\n",
              "    }\n",
              "\n",
              "    [theme=dark] .colab-df-convert:hover {\n",
              "      background-color: #434B5C;\n",
              "      box-shadow: 0px 1px 3px 1px rgba(0, 0, 0, 0.15);\n",
              "      filter: drop-shadow(0px 1px 2px rgba(0, 0, 0, 0.3));\n",
              "      fill: #FFFFFF;\n",
              "    }\n",
              "  </style>\n",
              "\n",
              "      <script>\n",
              "        const buttonEl =\n",
              "          document.querySelector('#df-1ff76487-5135-480c-9c3f-c5efacb52776 button.colab-df-convert');\n",
              "        buttonEl.style.display =\n",
              "          google.colab.kernel.accessAllowed ? 'block' : 'none';\n",
              "\n",
              "        async function convertToInteractive(key) {\n",
              "          const element = document.querySelector('#df-1ff76487-5135-480c-9c3f-c5efacb52776');\n",
              "          const dataTable =\n",
              "            await google.colab.kernel.invokeFunction('convertToInteractive',\n",
              "                                                     [key], {});\n",
              "          if (!dataTable) return;\n",
              "\n",
              "          const docLinkHtml = 'Like what you see? Visit the ' +\n",
              "            '<a target=\"_blank\" href=https://colab.research.google.com/notebooks/data_table.ipynb>data table notebook</a>'\n",
              "            + ' to learn more about interactive tables.';\n",
              "          element.innerHTML = '';\n",
              "          dataTable['output_type'] = 'display_data';\n",
              "          await google.colab.output.renderOutput(dataTable, element);\n",
              "          const docLink = document.createElement('div');\n",
              "          docLink.innerHTML = docLinkHtml;\n",
              "          element.appendChild(docLink);\n",
              "        }\n",
              "      </script>\n",
              "    </div>\n",
              "  </div>\n",
              "  "
            ]
          },
          "metadata": {},
          "execution_count": 3
        }
      ]
    },
    {
      "cell_type": "markdown",
      "source": [
        "# Tapşırıq №2.2"
      ],
      "metadata": {
        "id": "mHYHcv4z2LLQ"
      }
    },
    {
      "cell_type": "code",
      "source": [
        "transit.groupby('Hərəkət marşrutu təyinat').agg(\n",
        "    {'Malın çəkisi tonla':'sum', \n",
        "     'Avtomobil nömrəsi' :'count'}\n",
        ").round().sort_values(\n",
        "    'Malın çəkisi tonla', ascending=False\n",
        ").rename(columns={\"Avtomobil nömrəsi\":\"NV-lərin sayı\"}).head(5).reset_index()"
      ],
      "metadata": {
        "id": "wEcFG7482K82"
      },
      "execution_count": null,
      "outputs": []
    },
    {
      "cell_type": "markdown",
      "source": [
        "# Tapşırıq №3"
      ],
      "metadata": {
        "id": "3NUm0p-w24rc"
      }
    },
    {
      "cell_type": "code",
      "source": [
        "transit.groupby('MƏNSUB. ÖLKƏSİ').agg(\n",
        "    {'Malın çəkisi tonla':'sum', \n",
        "     'Avtomobil nömrəsi' :'count'}\n",
        ").round().sort_values(\n",
        "    'Malın çəkisi tonla', ascending=False\n",
        ").rename(columns={\"Avtomobil nömrəsi\":\"NV-lərin sayı\"}).head(5).reset_index()"
      ],
      "metadata": {
        "colab": {
          "base_uri": "https://localhost:8080/",
          "height": 206
        },
        "id": "o1Wf0V_524LJ",
        "outputId": "022b3a1c-4796-4301-d63a-4703ded1fa10"
      },
      "execution_count": null,
      "outputs": [
        {
          "output_type": "execute_result",
          "data": {
            "text/plain": [
              "            MƏNSUB. ÖLKƏSİ  Malın çəkisi tonla  NV-lərin sayı\n",
              "0  İran İslam Respublikası             76087.0           5324\n",
              "1                   Rusiya             44146.0           3784\n",
              "2                  Türkiyə             40120.0           2215\n",
              "3                Gürcüstan             16350.0           1111\n",
              "4                  Ukrayna              1522.0             83"
            ],
            "text/html": [
              "\n",
              "  <div id=\"df-cbd6c93c-3455-438f-8ffa-645699bb4572\">\n",
              "    <div class=\"colab-df-container\">\n",
              "      <div>\n",
              "<style scoped>\n",
              "    .dataframe tbody tr th:only-of-type {\n",
              "        vertical-align: middle;\n",
              "    }\n",
              "\n",
              "    .dataframe tbody tr th {\n",
              "        vertical-align: top;\n",
              "    }\n",
              "\n",
              "    .dataframe thead th {\n",
              "        text-align: right;\n",
              "    }\n",
              "</style>\n",
              "<table border=\"1\" class=\"dataframe\">\n",
              "  <thead>\n",
              "    <tr style=\"text-align: right;\">\n",
              "      <th></th>\n",
              "      <th>MƏNSUB. ÖLKƏSİ</th>\n",
              "      <th>Malın çəkisi tonla</th>\n",
              "      <th>NV-lərin sayı</th>\n",
              "    </tr>\n",
              "  </thead>\n",
              "  <tbody>\n",
              "    <tr>\n",
              "      <th>0</th>\n",
              "      <td>İran İslam Respublikası</td>\n",
              "      <td>76087.0</td>\n",
              "      <td>5324</td>\n",
              "    </tr>\n",
              "    <tr>\n",
              "      <th>1</th>\n",
              "      <td>Rusiya</td>\n",
              "      <td>44146.0</td>\n",
              "      <td>3784</td>\n",
              "    </tr>\n",
              "    <tr>\n",
              "      <th>2</th>\n",
              "      <td>Türkiyə</td>\n",
              "      <td>40120.0</td>\n",
              "      <td>2215</td>\n",
              "    </tr>\n",
              "    <tr>\n",
              "      <th>3</th>\n",
              "      <td>Gürcüstan</td>\n",
              "      <td>16350.0</td>\n",
              "      <td>1111</td>\n",
              "    </tr>\n",
              "    <tr>\n",
              "      <th>4</th>\n",
              "      <td>Ukrayna</td>\n",
              "      <td>1522.0</td>\n",
              "      <td>83</td>\n",
              "    </tr>\n",
              "  </tbody>\n",
              "</table>\n",
              "</div>\n",
              "      <button class=\"colab-df-convert\" onclick=\"convertToInteractive('df-cbd6c93c-3455-438f-8ffa-645699bb4572')\"\n",
              "              title=\"Convert this dataframe to an interactive table.\"\n",
              "              style=\"display:none;\">\n",
              "        \n",
              "  <svg xmlns=\"http://www.w3.org/2000/svg\" height=\"24px\"viewBox=\"0 0 24 24\"\n",
              "       width=\"24px\">\n",
              "    <path d=\"M0 0h24v24H0V0z\" fill=\"none\"/>\n",
              "    <path d=\"M18.56 5.44l.94 2.06.94-2.06 2.06-.94-2.06-.94-.94-2.06-.94 2.06-2.06.94zm-11 1L8.5 8.5l.94-2.06 2.06-.94-2.06-.94L8.5 2.5l-.94 2.06-2.06.94zm10 10l.94 2.06.94-2.06 2.06-.94-2.06-.94-.94-2.06-.94 2.06-2.06.94z\"/><path d=\"M17.41 7.96l-1.37-1.37c-.4-.4-.92-.59-1.43-.59-.52 0-1.04.2-1.43.59L10.3 9.45l-7.72 7.72c-.78.78-.78 2.05 0 2.83L4 21.41c.39.39.9.59 1.41.59.51 0 1.02-.2 1.41-.59l7.78-7.78 2.81-2.81c.8-.78.8-2.07 0-2.86zM5.41 20L4 18.59l7.72-7.72 1.47 1.35L5.41 20z\"/>\n",
              "  </svg>\n",
              "      </button>\n",
              "      \n",
              "  <style>\n",
              "    .colab-df-container {\n",
              "      display:flex;\n",
              "      flex-wrap:wrap;\n",
              "      gap: 12px;\n",
              "    }\n",
              "\n",
              "    .colab-df-convert {\n",
              "      background-color: #E8F0FE;\n",
              "      border: none;\n",
              "      border-radius: 50%;\n",
              "      cursor: pointer;\n",
              "      display: none;\n",
              "      fill: #1967D2;\n",
              "      height: 32px;\n",
              "      padding: 0 0 0 0;\n",
              "      width: 32px;\n",
              "    }\n",
              "\n",
              "    .colab-df-convert:hover {\n",
              "      background-color: #E2EBFA;\n",
              "      box-shadow: 0px 1px 2px rgba(60, 64, 67, 0.3), 0px 1px 3px 1px rgba(60, 64, 67, 0.15);\n",
              "      fill: #174EA6;\n",
              "    }\n",
              "\n",
              "    [theme=dark] .colab-df-convert {\n",
              "      background-color: #3B4455;\n",
              "      fill: #D2E3FC;\n",
              "    }\n",
              "\n",
              "    [theme=dark] .colab-df-convert:hover {\n",
              "      background-color: #434B5C;\n",
              "      box-shadow: 0px 1px 3px 1px rgba(0, 0, 0, 0.15);\n",
              "      filter: drop-shadow(0px 1px 2px rgba(0, 0, 0, 0.3));\n",
              "      fill: #FFFFFF;\n",
              "    }\n",
              "  </style>\n",
              "\n",
              "      <script>\n",
              "        const buttonEl =\n",
              "          document.querySelector('#df-cbd6c93c-3455-438f-8ffa-645699bb4572 button.colab-df-convert');\n",
              "        buttonEl.style.display =\n",
              "          google.colab.kernel.accessAllowed ? 'block' : 'none';\n",
              "\n",
              "        async function convertToInteractive(key) {\n",
              "          const element = document.querySelector('#df-cbd6c93c-3455-438f-8ffa-645699bb4572');\n",
              "          const dataTable =\n",
              "            await google.colab.kernel.invokeFunction('convertToInteractive',\n",
              "                                                     [key], {});\n",
              "          if (!dataTable) return;\n",
              "\n",
              "          const docLinkHtml = 'Like what you see? Visit the ' +\n",
              "            '<a target=\"_blank\" href=https://colab.research.google.com/notebooks/data_table.ipynb>data table notebook</a>'\n",
              "            + ' to learn more about interactive tables.';\n",
              "          element.innerHTML = '';\n",
              "          dataTable['output_type'] = 'display_data';\n",
              "          await google.colab.output.renderOutput(dataTable, element);\n",
              "          const docLink = document.createElement('div');\n",
              "          docLink.innerHTML = docLinkHtml;\n",
              "          element.appendChild(docLink);\n",
              "        }\n",
              "      </script>\n",
              "    </div>\n",
              "  </div>\n",
              "  "
            ]
          },
          "metadata": {},
          "execution_count": 4
        }
      ]
    },
    {
      "cell_type": "markdown",
      "source": [
        "# Tapşırıq №4"
      ],
      "metadata": {
        "id": "R2YUnfbDTbJy"
      }
    },
    {
      "cell_type": "code",
      "source": [
        "transit.groupby(['İCAZƏ BLANKI', 'GÜZƏŞT NÖVÜ']).agg(\n",
        "    {'Malın çəkisi tonla':'sum', \n",
        "     'Avtomobil nömrəsi' :'count'}\n",
        ").round().sort_values(\n",
        "    'Malın çəkisi tonla', ascending=False\n",
        ").rename(columns={\"Avtomobil nömrəsi\":\"NV-lərin sayı\"}).head(5).reset_index()"
      ],
      "metadata": {
        "colab": {
          "base_uri": "https://localhost:8080/",
          "height": 175
        },
        "id": "I2XXtKlu1prB",
        "outputId": "ec8c8737-15d8-419b-8779-03366ae795b1"
      },
      "execution_count": null,
      "outputs": [
        {
          "output_type": "execute_result",
          "data": {
            "text/plain": [
              "                                      İCAZƏ BLANKI         GÜZƏŞT NÖVÜ  \\\n",
              "0  Yüklü giriş, yüksüz çıxış və tranzit keçid üçün               Kvota   \n",
              "1  Yüklü giriş, yüksüz çıxış və tranzit keçid üçün  Digər azad olmalar   \n",
              "2  Yüklü giriş, yüksüz çıxış və tranzit keçid üçün              Yoxdur   \n",
              "3                                    Yüklənmə üçün              Yoxdur   \n",
              "\n",
              "   Malın çəkisi tonla  NV-lərin sayı  \n",
              "0             86911.0           5939  \n",
              "1             62504.0           4353  \n",
              "2             32456.0           2421  \n",
              "3                 0.0              1  "
            ],
            "text/html": [
              "\n",
              "  <div id=\"df-1955b30d-9853-4e59-81a4-753a064790b9\">\n",
              "    <div class=\"colab-df-container\">\n",
              "      <div>\n",
              "<style scoped>\n",
              "    .dataframe tbody tr th:only-of-type {\n",
              "        vertical-align: middle;\n",
              "    }\n",
              "\n",
              "    .dataframe tbody tr th {\n",
              "        vertical-align: top;\n",
              "    }\n",
              "\n",
              "    .dataframe thead th {\n",
              "        text-align: right;\n",
              "    }\n",
              "</style>\n",
              "<table border=\"1\" class=\"dataframe\">\n",
              "  <thead>\n",
              "    <tr style=\"text-align: right;\">\n",
              "      <th></th>\n",
              "      <th>İCAZƏ BLANKI</th>\n",
              "      <th>GÜZƏŞT NÖVÜ</th>\n",
              "      <th>Malın çəkisi tonla</th>\n",
              "      <th>NV-lərin sayı</th>\n",
              "    </tr>\n",
              "  </thead>\n",
              "  <tbody>\n",
              "    <tr>\n",
              "      <th>0</th>\n",
              "      <td>Yüklü giriş, yüksüz çıxış və tranzit keçid üçün</td>\n",
              "      <td>Kvota</td>\n",
              "      <td>86911.0</td>\n",
              "      <td>5939</td>\n",
              "    </tr>\n",
              "    <tr>\n",
              "      <th>1</th>\n",
              "      <td>Yüklü giriş, yüksüz çıxış və tranzit keçid üçün</td>\n",
              "      <td>Digər azad olmalar</td>\n",
              "      <td>62504.0</td>\n",
              "      <td>4353</td>\n",
              "    </tr>\n",
              "    <tr>\n",
              "      <th>2</th>\n",
              "      <td>Yüklü giriş, yüksüz çıxış və tranzit keçid üçün</td>\n",
              "      <td>Yoxdur</td>\n",
              "      <td>32456.0</td>\n",
              "      <td>2421</td>\n",
              "    </tr>\n",
              "    <tr>\n",
              "      <th>3</th>\n",
              "      <td>Yüklənmə üçün</td>\n",
              "      <td>Yoxdur</td>\n",
              "      <td>0.0</td>\n",
              "      <td>1</td>\n",
              "    </tr>\n",
              "  </tbody>\n",
              "</table>\n",
              "</div>\n",
              "      <button class=\"colab-df-convert\" onclick=\"convertToInteractive('df-1955b30d-9853-4e59-81a4-753a064790b9')\"\n",
              "              title=\"Convert this dataframe to an interactive table.\"\n",
              "              style=\"display:none;\">\n",
              "        \n",
              "  <svg xmlns=\"http://www.w3.org/2000/svg\" height=\"24px\"viewBox=\"0 0 24 24\"\n",
              "       width=\"24px\">\n",
              "    <path d=\"M0 0h24v24H0V0z\" fill=\"none\"/>\n",
              "    <path d=\"M18.56 5.44l.94 2.06.94-2.06 2.06-.94-2.06-.94-.94-2.06-.94 2.06-2.06.94zm-11 1L8.5 8.5l.94-2.06 2.06-.94-2.06-.94L8.5 2.5l-.94 2.06-2.06.94zm10 10l.94 2.06.94-2.06 2.06-.94-2.06-.94-.94-2.06-.94 2.06-2.06.94z\"/><path d=\"M17.41 7.96l-1.37-1.37c-.4-.4-.92-.59-1.43-.59-.52 0-1.04.2-1.43.59L10.3 9.45l-7.72 7.72c-.78.78-.78 2.05 0 2.83L4 21.41c.39.39.9.59 1.41.59.51 0 1.02-.2 1.41-.59l7.78-7.78 2.81-2.81c.8-.78.8-2.07 0-2.86zM5.41 20L4 18.59l7.72-7.72 1.47 1.35L5.41 20z\"/>\n",
              "  </svg>\n",
              "      </button>\n",
              "      \n",
              "  <style>\n",
              "    .colab-df-container {\n",
              "      display:flex;\n",
              "      flex-wrap:wrap;\n",
              "      gap: 12px;\n",
              "    }\n",
              "\n",
              "    .colab-df-convert {\n",
              "      background-color: #E8F0FE;\n",
              "      border: none;\n",
              "      border-radius: 50%;\n",
              "      cursor: pointer;\n",
              "      display: none;\n",
              "      fill: #1967D2;\n",
              "      height: 32px;\n",
              "      padding: 0 0 0 0;\n",
              "      width: 32px;\n",
              "    }\n",
              "\n",
              "    .colab-df-convert:hover {\n",
              "      background-color: #E2EBFA;\n",
              "      box-shadow: 0px 1px 2px rgba(60, 64, 67, 0.3), 0px 1px 3px 1px rgba(60, 64, 67, 0.15);\n",
              "      fill: #174EA6;\n",
              "    }\n",
              "\n",
              "    [theme=dark] .colab-df-convert {\n",
              "      background-color: #3B4455;\n",
              "      fill: #D2E3FC;\n",
              "    }\n",
              "\n",
              "    [theme=dark] .colab-df-convert:hover {\n",
              "      background-color: #434B5C;\n",
              "      box-shadow: 0px 1px 3px 1px rgba(0, 0, 0, 0.15);\n",
              "      filter: drop-shadow(0px 1px 2px rgba(0, 0, 0, 0.3));\n",
              "      fill: #FFFFFF;\n",
              "    }\n",
              "  </style>\n",
              "\n",
              "      <script>\n",
              "        const buttonEl =\n",
              "          document.querySelector('#df-1955b30d-9853-4e59-81a4-753a064790b9 button.colab-df-convert');\n",
              "        buttonEl.style.display =\n",
              "          google.colab.kernel.accessAllowed ? 'block' : 'none';\n",
              "\n",
              "        async function convertToInteractive(key) {\n",
              "          const element = document.querySelector('#df-1955b30d-9853-4e59-81a4-753a064790b9');\n",
              "          const dataTable =\n",
              "            await google.colab.kernel.invokeFunction('convertToInteractive',\n",
              "                                                     [key], {});\n",
              "          if (!dataTable) return;\n",
              "\n",
              "          const docLinkHtml = 'Like what you see? Visit the ' +\n",
              "            '<a target=\"_blank\" href=https://colab.research.google.com/notebooks/data_table.ipynb>data table notebook</a>'\n",
              "            + ' to learn more about interactive tables.';\n",
              "          element.innerHTML = '';\n",
              "          dataTable['output_type'] = 'display_data';\n",
              "          await google.colab.output.renderOutput(dataTable, element);\n",
              "          const docLink = document.createElement('div');\n",
              "          docLink.innerHTML = docLinkHtml;\n",
              "          element.appendChild(docLink);\n",
              "        }\n",
              "      </script>\n",
              "    </div>\n",
              "  </div>\n",
              "  "
            ]
          },
          "metadata": {},
          "execution_count": 5
        }
      ]
    },
    {
      "cell_type": "markdown",
      "source": [
        "# Digər əlavə təhlillər və məlumat manipulyasiyası"
      ],
      "metadata": {
        "id": "VZ6xWURo1poG"
      }
    },
    {
      "cell_type": "code",
      "source": [
        "transit['Avtomobil növü'] = [i.split(':-')[0] for i in transit['AVTOMOBİLİN NÖVÜ/NÖMRƏSİ']]\n",
        "transit['Ayın yazılma günü'] = [i.day for i in transit['YAZILMA TARİXİ']] \n",
        "transit['Günün yazılma saatı'] = [i.hour+1 for i in transit['YAZILMA TARİXİ']] \n",
        "transit['Həftənin yazılma günü'] = [i.weekday()+1 for i in transit['YAZILMA TARİXİ']]"
      ],
      "metadata": {
        "id": "vKxVqaFWFRc7",
        "colab": {
          "base_uri": "https://localhost:8080/"
        },
        "outputId": "713e25a4-3fcb-445d-baa6-b74891c2ba15"
      },
      "execution_count": null,
      "outputs": [
        {
          "output_type": "stream",
          "name": "stderr",
          "text": [
            "/usr/local/lib/python3.7/dist-packages/ipykernel_launcher.py:1: SettingWithCopyWarning: \n",
            "A value is trying to be set on a copy of a slice from a DataFrame.\n",
            "Try using .loc[row_indexer,col_indexer] = value instead\n",
            "\n",
            "See the caveats in the documentation: https://pandas.pydata.org/pandas-docs/stable/user_guide/indexing.html#returning-a-view-versus-a-copy\n",
            "  \"\"\"Entry point for launching an IPython kernel.\n",
            "/usr/local/lib/python3.7/dist-packages/ipykernel_launcher.py:3: SettingWithCopyWarning: \n",
            "A value is trying to be set on a copy of a slice from a DataFrame.\n",
            "Try using .loc[row_indexer,col_indexer] = value instead\n",
            "\n",
            "See the caveats in the documentation: https://pandas.pydata.org/pandas-docs/stable/user_guide/indexing.html#returning-a-view-versus-a-copy\n",
            "  This is separate from the ipykernel package so we can avoid doing imports until\n",
            "/usr/local/lib/python3.7/dist-packages/ipykernel_launcher.py:4: SettingWithCopyWarning: \n",
            "A value is trying to be set on a copy of a slice from a DataFrame.\n",
            "Try using .loc[row_indexer,col_indexer] = value instead\n",
            "\n",
            "See the caveats in the documentation: https://pandas.pydata.org/pandas-docs/stable/user_guide/indexing.html#returning-a-view-versus-a-copy\n",
            "  after removing the cwd from sys.path.\n"
          ]
        }
      ]
    },
    {
      "cell_type": "code",
      "source": [
        "plt.figure(dpi=130)\n",
        "plt.title(\"Ayin günü üzrə yazılmaların paylanması\")\n",
        "sns.countplot(x=transit['Ayın yazılma günü'])\n",
        "# sns.histplot(x=df['Ayın yazılma günü'], bins=30)\n",
        "plt.show()"
      ],
      "metadata": {
        "colab": {
          "base_uri": "https://localhost:8080/",
          "height": 518
        },
        "id": "0839XYBsJAIp",
        "outputId": "3cab6889-2afb-498c-ca9c-2c6cd6270485"
      },
      "execution_count": null,
      "outputs": [
        {
          "output_type": "display_data",
          "data": {
            "text/plain": [
              "<Figure size 780x520 with 1 Axes>"
            ],
            "image/png": "[encoded data removed]"
          },
          "metadata": {}
        }
      ]
    },
    {
      "cell_type": "code",
      "source": [
        "plt.figure(dpi=130)\n",
        "plt.title(\"Günün saatı üzrə yazılmaların paylanması\")\n",
        "sns.countplot(x=transit['Günün yazılma saatı'])\n",
        "plt.show()"
      ],
      "metadata": {
        "colab": {
          "base_uri": "https://localhost:8080/",
          "height": 518
        },
        "id": "xnggDKIbF8OZ",
        "outputId": "5d65f6d1-3daa-4714-fba3-307fb84467ba"
      },
      "execution_count": null,
      "outputs": [
        {
          "output_type": "display_data",
          "data": {
            "text/plain": [
              "<Figure size 780x520 with 1 Axes>"
            ],
            "image/png": "[encoded data removed]"
          },
          "metadata": {}
        }
      ]
    },
    {
      "cell_type": "code",
      "source": [
        "\n",
        "plt.figure(dpi=130)\n",
        "plt.title(\"Həftənin günü üzrə yazılmaların paylanması\")\n",
        "sns.countplot(x = transit['Həftənin yazılma günü'])\n",
        "plt.show()"
      ],
      "metadata": {
        "colab": {
          "base_uri": "https://localhost:8080/",
          "height": 518
        },
        "id": "lYUbsJpSIakW",
        "outputId": "12451cc8-398c-45e7-ec97-e220515d6364"
      },
      "execution_count": null,
      "outputs": [
        {
          "output_type": "display_data",
          "data": {
            "text/plain": [
              "<Figure size 780x520 with 1 Axes>"
            ],
            "image/png": "[encoded data removed]"
          },
          "metadata": {}
        }
      ]
    },
    {
      "cell_type": "code",
      "source": [
        "5//2"
      ],
      "metadata": {
        "colab": {
          "base_uri": "https://localhost:8080/"
        },
        "id": "S_uKVjX4Z45L",
        "outputId": "0c5f63df-4e99-4c74-e2bf-4dab39df7de2"
      },
      "execution_count": null,
      "outputs": [
        {
          "output_type": "execute_result",
          "data": {
            "text/plain": [
              "2"
            ]
          },
          "metadata": {},
          "execution_count": 19
        }
      ]
    },
    {
      "cell_type": "code",
      "source": [
        "difference = transit['YAZILMA TARİXİ']-transit['GİRİŞ TARİXİ']\n",
        "mins = [i.total_seconds()//60 for i in difference]\n",
        "sns.distplot(mins)\n",
        "transit['Fərq (dəq.)'] = mins"
      ],
      "metadata": {
        "id": "RrPKSttXkO7B",
        "colab": {
          "base_uri": "https://localhost:8080/",
          "height": 431
        },
        "outputId": "bb87de53-2afb-4c28-b7cf-eeb333a316a4"
      },
      "execution_count": null,
      "outputs": [
        {
          "output_type": "stream",
          "name": "stderr",
          "text": [
            "/usr/local/lib/python3.7/dist-packages/seaborn/distributions.py:2619: FutureWarning: `distplot` is a deprecated function and will be removed in a future version. Please adapt your code to use either `displot` (a figure-level function with similar flexibility) or `histplot` (an axes-level function for histograms).\n",
            "  warnings.warn(msg, FutureWarning)\n",
            "/usr/local/lib/python3.7/dist-packages/ipykernel_launcher.py:4: SettingWithCopyWarning: \n",
            "A value is trying to be set on a copy of a slice from a DataFrame.\n",
            "Try using .loc[row_indexer,col_indexer] = value instead\n",
            "\n",
            "See the caveats in the documentation: https://pandas.pydata.org/pandas-docs/stable/user_guide/indexing.html#returning-a-view-versus-a-copy\n",
            "  after removing the cwd from sys.path.\n"
          ]
        },
        {
          "output_type": "display_data",
          "data": {
            "text/plain": [
              "<Figure size 432x288 with 1 Axes>"
            ],
            "image/png": "[encoded data removed]"
          },
          "metadata": {
            "needs_background": "light"
          }
        }
      ]
    },
    {
      "cell_type": "code",
      "source": [
        "difference = transit['YAZILMA TARİXİ']-transit['GİRİŞ TARİXİ']\n",
        "days = [i.total_seconds()//86400 for i in difference]\n",
        "sns.distplot(days)\n",
        "transit['Fərq (günlə)'] = days"
      ],
      "metadata": {
        "colab": {
          "base_uri": "https://localhost:8080/",
          "height": 431
        },
        "id": "CncmRvVG8HlH",
        "outputId": "2c3d9e22-631c-4558-ed27-8ae94572b13c"
      },
      "execution_count": null,
      "outputs": [
        {
          "output_type": "stream",
          "name": "stderr",
          "text": [
            "/usr/local/lib/python3.7/dist-packages/seaborn/distributions.py:2619: FutureWarning: `distplot` is a deprecated function and will be removed in a future version. Please adapt your code to use either `displot` (a figure-level function with similar flexibility) or `histplot` (an axes-level function for histograms).\n",
            "  warnings.warn(msg, FutureWarning)\n",
            "/usr/local/lib/python3.7/dist-packages/ipykernel_launcher.py:4: SettingWithCopyWarning: \n",
            "A value is trying to be set on a copy of a slice from a DataFrame.\n",
            "Try using .loc[row_indexer,col_indexer] = value instead\n",
            "\n",
            "See the caveats in the documentation: https://pandas.pydata.org/pandas-docs/stable/user_guide/indexing.html#returning-a-view-versus-a-copy\n",
            "  after removing the cwd from sys.path.\n"
          ]
        },
        {
          "output_type": "display_data",
          "data": {
            "text/plain": [
              "<Figure size 432x288 with 1 Axes>"
            ],
            "image/png": "[encoded data removed]"
          },
          "metadata": {
            "needs_background": "light"
          }
        }
      ]
    },
    {
      "cell_type": "code",
      "source": [
        ""
      ],
      "metadata": {
        "id": "bPWrvdUNZrzN"
      },
      "execution_count": null,
      "outputs": []
    },
    {
      "cell_type": "code",
      "source": [
        "mins_difference = []\n",
        "\n",
        "for i in mins:\n",
        "  if i<10:\n",
        "    mins_difference.append(\"10 dəq.\")\n",
        "  elif (i<60)  & (i>=10):\n",
        "    mins_difference.append(\"1 saat\")\n",
        "  elif (i<120)  & (i>=60):\n",
        "    mins_difference.append(\"1-2 saat\")\n",
        "  elif (i<360)  & (i>=120):\n",
        "    mins_difference.append(\"2-6 saat\")\n",
        "  elif (i<720)  & (i>=360):\n",
        "    mins_difference.append(\"6-12 saat\")\n",
        "  else:\n",
        "    mins_difference.append(\"12 saatdan çox\")"
      ],
      "metadata": {
        "id": "TcoQDenoLJOT"
      },
      "execution_count": null,
      "outputs": []
    },
    {
      "cell_type": "code",
      "source": [
        "days_difference = []\n",
        "\n",
        "for i in days:\n",
        "  if i<1:\n",
        "    days_difference.append(\"Gün ərzində\")\n",
        "  elif (i<2)  & (i>=1):\n",
        "    days_difference.append(\"1-2 gün ərzində\")\n",
        "  elif (i<3)  & (i>=2):\n",
        "    days_difference.append(\"2-3 gün ərzində\")\n",
        "  elif (i<4)  & (i>=3):\n",
        "    days_difference.append(\"3-4 gün ərzində\")\n",
        "  elif (i<5)  & (i>=4):\n",
        "    days_difference.append(\"4-5 gün ərzində\")\n",
        "  else:\n",
        "    days_difference.append(\"5 gündən çox\")"
      ],
      "metadata": {
        "id": "8u-6tZERMH_m"
      },
      "execution_count": null,
      "outputs": []
    },
    {
      "cell_type": "code",
      "source": [
        "transit['mins_difference'] = mins_difference\n",
        "transit['days_difference'] = days_difference"
      ],
      "metadata": {
        "colab": {
          "base_uri": "https://localhost:8080/"
        },
        "id": "D5KrBSo0LI3V",
        "outputId": "cb02e031-409d-42a4-d471-6510691e54cb"
      },
      "execution_count": null,
      "outputs": [
        {
          "output_type": "stream",
          "name": "stderr",
          "text": [
            "/usr/local/lib/python3.7/dist-packages/ipykernel_launcher.py:1: SettingWithCopyWarning: \n",
            "A value is trying to be set on a copy of a slice from a DataFrame.\n",
            "Try using .loc[row_indexer,col_indexer] = value instead\n",
            "\n",
            "See the caveats in the documentation: https://pandas.pydata.org/pandas-docs/stable/user_guide/indexing.html#returning-a-view-versus-a-copy\n",
            "  \"\"\"Entry point for launching an IPython kernel.\n",
            "/usr/local/lib/python3.7/dist-packages/ipykernel_launcher.py:2: SettingWithCopyWarning: \n",
            "A value is trying to be set on a copy of a slice from a DataFrame.\n",
            "Try using .loc[row_indexer,col_indexer] = value instead\n",
            "\n",
            "See the caveats in the documentation: https://pandas.pydata.org/pandas-docs/stable/user_guide/indexing.html#returning-a-view-versus-a-copy\n",
            "  \n"
          ]
        }
      ]
    },
    {
      "cell_type": "code",
      "source": [
        "pd.DataFrame(mins_difference, columns=['a']).groupby('a').agg({'a':'count'})"
      ],
      "metadata": {
        "colab": {
          "base_uri": "https://localhost:8080/",
          "height": 269
        },
        "id": "AiSh0a9hVfFg",
        "outputId": "865f15fe-abbe-4114-f126-b82440db99ad"
      },
      "execution_count": null,
      "outputs": [
        {
          "output_type": "execute_result",
          "data": {
            "text/plain": [
              "                   a\n",
              "a                   \n",
              "1 saat          1806\n",
              "1-2 saat        1067\n",
              "10 dəq.         9201\n",
              "12 saatdan çox    35\n",
              "2-6 saat         568\n",
              "6-12 saat         37"
            ],
            "text/html": [
              "\n",
              "  <div id=\"df-f3bae78c-16cc-4acf-9c95-2ec8a8eeef83\">\n",
              "    <div class=\"colab-df-container\">\n",
              "      <div>\n",
              "<style scoped>\n",
              "    .dataframe tbody tr th:only-of-type {\n",
              "        vertical-align: middle;\n",
              "    }\n",
              "\n",
              "    .dataframe tbody tr th {\n",
              "        vertical-align: top;\n",
              "    }\n",
              "\n",
              "    .dataframe thead th {\n",
              "        text-align: right;\n",
              "    }\n",
              "</style>\n",
              "<table border=\"1\" class=\"dataframe\">\n",
              "  <thead>\n",
              "    <tr style=\"text-align: right;\">\n",
              "      <th></th>\n",
              "      <th>a</th>\n",
              "    </tr>\n",
              "    <tr>\n",
              "      <th>a</th>\n",
              "      <th></th>\n",
              "    </tr>\n",
              "  </thead>\n",
              "  <tbody>\n",
              "    <tr>\n",
              "      <th>1 saat</th>\n",
              "      <td>1806</td>\n",
              "    </tr>\n",
              "    <tr>\n",
              "      <th>1-2 saat</th>\n",
              "      <td>1067</td>\n",
              "    </tr>\n",
              "    <tr>\n",
              "      <th>10 dəq.</th>\n",
              "      <td>9201</td>\n",
              "    </tr>\n",
              "    <tr>\n",
              "      <th>12 saatdan çox</th>\n",
              "      <td>35</td>\n",
              "    </tr>\n",
              "    <tr>\n",
              "      <th>2-6 saat</th>\n",
              "      <td>568</td>\n",
              "    </tr>\n",
              "    <tr>\n",
              "      <th>6-12 saat</th>\n",
              "      <td>37</td>\n",
              "    </tr>\n",
              "  </tbody>\n",
              "</table>\n",
              "</div>\n",
              "      <button class=\"colab-df-convert\" onclick=\"convertToInteractive('df-f3bae78c-16cc-4acf-9c95-2ec8a8eeef83')\"\n",
              "              title=\"Convert this dataframe to an interactive table.\"\n",
              "              style=\"display:none;\">\n",
              "        \n",
              "  <svg xmlns=\"http://www.w3.org/2000/svg\" height=\"24px\"viewBox=\"0 0 24 24\"\n",
              "       width=\"24px\">\n",
              "    <path d=\"M0 0h24v24H0V0z\" fill=\"none\"/>\n",
              "    <path d=\"M18.56 5.44l.94 2.06.94-2.06 2.06-.94-2.06-.94-.94-2.06-.94 2.06-2.06.94zm-11 1L8.5 8.5l.94-2.06 2.06-.94-2.06-.94L8.5 2.5l-.94 2.06-2.06.94zm10 10l.94 2.06.94-2.06 2.06-.94-2.06-.94-.94-2.06-.94 2.06-2.06.94z\"/><path d=\"M17.41 7.96l-1.37-1.37c-.4-.4-.92-.59-1.43-.59-.52 0-1.04.2-1.43.59L10.3 9.45l-7.72 7.72c-.78.78-.78 2.05 0 2.83L4 21.41c.39.39.9.59 1.41.59.51 0 1.02-.2 1.41-.59l7.78-7.78 2.81-2.81c.8-.78.8-2.07 0-2.86zM5.41 20L4 18.59l7.72-7.72 1.47 1.35L5.41 20z\"/>\n",
              "  </svg>\n",
              "      </button>\n",
              "      \n",
              "  <style>\n",
              "    .colab-df-container {\n",
              "      display:flex;\n",
              "      flex-wrap:wrap;\n",
              "      gap: 12px;\n",
              "    }\n",
              "\n",
              "    .colab-df-convert {\n",
              "      background-color: #E8F0FE;\n",
              "      border: none;\n",
              "      border-radius: 50%;\n",
              "      cursor: pointer;\n",
              "      display: none;\n",
              "      fill: #1967D2;\n",
              "      height: 32px;\n",
              "      padding: 0 0 0 0;\n",
              "      width: 32px;\n",
              "    }\n",
              "\n",
              "    .colab-df-convert:hover {\n",
              "      background-color: #E2EBFA;\n",
              "      box-shadow: 0px 1px 2px rgba(60, 64, 67, 0.3), 0px 1px 3px 1px rgba(60, 64, 67, 0.15);\n",
              "      fill: #174EA6;\n",
              "    }\n",
              "\n",
              "    [theme=dark] .colab-df-convert {\n",
              "      background-color: #3B4455;\n",
              "      fill: #D2E3FC;\n",
              "    }\n",
              "\n",
              "    [theme=dark] .colab-df-convert:hover {\n",
              "      background-color: #434B5C;\n",
              "      box-shadow: 0px 1px 3px 1px rgba(0, 0, 0, 0.15);\n",
              "      filter: drop-shadow(0px 1px 2px rgba(0, 0, 0, 0.3));\n",
              "      fill: #FFFFFF;\n",
              "    }\n",
              "  </style>\n",
              "\n",
              "      <script>\n",
              "        const buttonEl =\n",
              "          document.querySelector('#df-f3bae78c-16cc-4acf-9c95-2ec8a8eeef83 button.colab-df-convert');\n",
              "        buttonEl.style.display =\n",
              "          google.colab.kernel.accessAllowed ? 'block' : 'none';\n",
              "\n",
              "        async function convertToInteractive(key) {\n",
              "          const element = document.querySelector('#df-f3bae78c-16cc-4acf-9c95-2ec8a8eeef83');\n",
              "          const dataTable =\n",
              "            await google.colab.kernel.invokeFunction('convertToInteractive',\n",
              "                                                     [key], {});\n",
              "          if (!dataTable) return;\n",
              "\n",
              "          const docLinkHtml = 'Like what you see? Visit the ' +\n",
              "            '<a target=\"_blank\" href=https://colab.research.google.com/notebooks/data_table.ipynb>data table notebook</a>'\n",
              "            + ' to learn more about interactive tables.';\n",
              "          element.innerHTML = '';\n",
              "          dataTable['output_type'] = 'display_data';\n",
              "          await google.colab.output.renderOutput(dataTable, element);\n",
              "          const docLink = document.createElement('div');\n",
              "          docLink.innerHTML = docLinkHtml;\n",
              "          element.appendChild(docLink);\n",
              "        }\n",
              "      </script>\n",
              "    </div>\n",
              "  </div>\n",
              "  "
            ]
          },
          "metadata": {},
          "execution_count": 34
        }
      ]
    },
    {
      "cell_type": "code",
      "source": [
        "pd.DataFrame(days_difference, columns=['a']).groupby('a').agg({'a':'count'})"
      ],
      "metadata": {
        "colab": {
          "base_uri": "https://localhost:8080/",
          "height": 206
        },
        "id": "ban093RjMKqF",
        "outputId": "daac0076-8c06-4596-f7b4-0bf2eb61db31"
      },
      "execution_count": null,
      "outputs": [
        {
          "output_type": "execute_result",
          "data": {
            "text/plain": [
              "                     a\n",
              "a                     \n",
              "1-2 gün ərzində      3\n",
              "2-3 gün ərzində      1\n",
              "5 gündən çox         2\n",
              "Gün ərzində      12708"
            ],
            "text/html": [
              "\n",
              "  <div id=\"df-ffb38d65-8342-4946-b697-e39507445ec5\">\n",
              "    <div class=\"colab-df-container\">\n",
              "      <div>\n",
              "<style scoped>\n",
              "    .dataframe tbody tr th:only-of-type {\n",
              "        vertical-align: middle;\n",
              "    }\n",
              "\n",
              "    .dataframe tbody tr th {\n",
              "        vertical-align: top;\n",
              "    }\n",
              "\n",
              "    .dataframe thead th {\n",
              "        text-align: right;\n",
              "    }\n",
              "</style>\n",
              "<table border=\"1\" class=\"dataframe\">\n",
              "  <thead>\n",
              "    <tr style=\"text-align: right;\">\n",
              "      <th></th>\n",
              "      <th>a</th>\n",
              "    </tr>\n",
              "    <tr>\n",
              "      <th>a</th>\n",
              "      <th></th>\n",
              "    </tr>\n",
              "  </thead>\n",
              "  <tbody>\n",
              "    <tr>\n",
              "      <th>1-2 gün ərzində</th>\n",
              "      <td>3</td>\n",
              "    </tr>\n",
              "    <tr>\n",
              "      <th>2-3 gün ərzində</th>\n",
              "      <td>1</td>\n",
              "    </tr>\n",
              "    <tr>\n",
              "      <th>5 gündən çox</th>\n",
              "      <td>2</td>\n",
              "    </tr>\n",
              "    <tr>\n",
              "      <th>Gün ərzində</th>\n",
              "      <td>12708</td>\n",
              "    </tr>\n",
              "  </tbody>\n",
              "</table>\n",
              "</div>\n",
              "      <button class=\"colab-df-convert\" onclick=\"convertToInteractive('df-ffb38d65-8342-4946-b697-e39507445ec5')\"\n",
              "              title=\"Convert this dataframe to an interactive table.\"\n",
              "              style=\"display:none;\">\n",
              "        \n",
              "  <svg xmlns=\"http://www.w3.org/2000/svg\" height=\"24px\"viewBox=\"0 0 24 24\"\n",
              "       width=\"24px\">\n",
              "    <path d=\"M0 0h24v24H0V0z\" fill=\"none\"/>\n",
              "    <path d=\"M18.56 5.44l.94 2.06.94-2.06 2.06-.94-2.06-.94-.94-2.06-.94 2.06-2.06.94zm-11 1L8.5 8.5l.94-2.06 2.06-.94-2.06-.94L8.5 2.5l-.94 2.06-2.06.94zm10 10l.94 2.06.94-2.06 2.06-.94-2.06-.94-.94-2.06-.94 2.06-2.06.94z\"/><path d=\"M17.41 7.96l-1.37-1.37c-.4-.4-.92-.59-1.43-.59-.52 0-1.04.2-1.43.59L10.3 9.45l-7.72 7.72c-.78.78-.78 2.05 0 2.83L4 21.41c.39.39.9.59 1.41.59.51 0 1.02-.2 1.41-.59l7.78-7.78 2.81-2.81c.8-.78.8-2.07 0-2.86zM5.41 20L4 18.59l7.72-7.72 1.47 1.35L5.41 20z\"/>\n",
              "  </svg>\n",
              "      </button>\n",
              "      \n",
              "  <style>\n",
              "    .colab-df-container {\n",
              "      display:flex;\n",
              "      flex-wrap:wrap;\n",
              "      gap: 12px;\n",
              "    }\n",
              "\n",
              "    .colab-df-convert {\n",
              "      background-color: #E8F0FE;\n",
              "      border: none;\n",
              "      border-radius: 50%;\n",
              "      cursor: pointer;\n",
              "      display: none;\n",
              "      fill: #1967D2;\n",
              "      height: 32px;\n",
              "      padding: 0 0 0 0;\n",
              "      width: 32px;\n",
              "    }\n",
              "\n",
              "    .colab-df-convert:hover {\n",
              "      background-color: #E2EBFA;\n",
              "      box-shadow: 0px 1px 2px rgba(60, 64, 67, 0.3), 0px 1px 3px 1px rgba(60, 64, 67, 0.15);\n",
              "      fill: #174EA6;\n",
              "    }\n",
              "\n",
              "    [theme=dark] .colab-df-convert {\n",
              "      background-color: #3B4455;\n",
              "      fill: #D2E3FC;\n",
              "    }\n",
              "\n",
              "    [theme=dark] .colab-df-convert:hover {\n",
              "      background-color: #434B5C;\n",
              "      box-shadow: 0px 1px 3px 1px rgba(0, 0, 0, 0.15);\n",
              "      filter: drop-shadow(0px 1px 2px rgba(0, 0, 0, 0.3));\n",
              "      fill: #FFFFFF;\n",
              "    }\n",
              "  </style>\n",
              "\n",
              "      <script>\n",
              "        const buttonEl =\n",
              "          document.querySelector('#df-ffb38d65-8342-4946-b697-e39507445ec5 button.colab-df-convert');\n",
              "        buttonEl.style.display =\n",
              "          google.colab.kernel.accessAllowed ? 'block' : 'none';\n",
              "\n",
              "        async function convertToInteractive(key) {\n",
              "          const element = document.querySelector('#df-ffb38d65-8342-4946-b697-e39507445ec5');\n",
              "          const dataTable =\n",
              "            await google.colab.kernel.invokeFunction('convertToInteractive',\n",
              "                                                     [key], {});\n",
              "          if (!dataTable) return;\n",
              "\n",
              "          const docLinkHtml = 'Like what you see? Visit the ' +\n",
              "            '<a target=\"_blank\" href=https://colab.research.google.com/notebooks/data_table.ipynb>data table notebook</a>'\n",
              "            + ' to learn more about interactive tables.';\n",
              "          element.innerHTML = '';\n",
              "          dataTable['output_type'] = 'display_data';\n",
              "          await google.colab.output.renderOutput(dataTable, element);\n",
              "          const docLink = document.createElement('div');\n",
              "          docLink.innerHTML = docLinkHtml;\n",
              "          element.appendChild(docLink);\n",
              "        }\n",
              "      </script>\n",
              "    </div>\n",
              "  </div>\n",
              "  "
            ]
          },
          "metadata": {},
          "execution_count": 35
        }
      ]
    },
    {
      "cell_type": "code",
      "source": [
        "sns.distplot(list(filter(lambda x: x<30, days)))"
      ],
      "metadata": {
        "colab": {
          "base_uri": "https://localhost:8080/",
          "height": 340
        },
        "id": "WTlvfPOa5XSE",
        "outputId": "df41a5ef-7afc-4bc9-8bb8-f7f26c8851dc"
      },
      "execution_count": null,
      "outputs": [
        {
          "output_type": "stream",
          "name": "stderr",
          "text": [
            "/usr/local/lib/python3.7/dist-packages/seaborn/distributions.py:2619: FutureWarning: `distplot` is a deprecated function and will be removed in a future version. Please adapt your code to use either `displot` (a figure-level function with similar flexibility) or `histplot` (an axes-level function for histograms).\n",
            "  warnings.warn(msg, FutureWarning)\n"
          ]
        },
        {
          "output_type": "execute_result",
          "data": {
            "text/plain": [
              "<matplotlib.axes._subplots.AxesSubplot at 0x7fdcad064190>"
            ]
          },
          "metadata": {},
          "execution_count": 37
        },
        {
          "output_type": "display_data",
          "data": {
            "text/plain": [
              "<Figure size 432x288 with 1 Axes>"
            ],
            "image/png": "[encoded data removed]"
          },
          "metadata": {}
        }
      ]
    },
    {
      "cell_type": "code",
      "source": [
        "transit.to_excel('preprocessed.xlsx')"
      ],
      "metadata": {
        "id": "RzuKha4a9gME"
      },
      "execution_count": null,
      "outputs": []
    },
    {
      "cell_type": "code",
      "source": [
        "sns.distplot(list(filter(lambda x: x<60, mins)))"
      ],
      "metadata": {
        "id": "2mUdC3ee6f49",
        "colab": {
          "base_uri": "https://localhost:8080/",
          "height": 344
        },
        "outputId": "be473d6c-f87d-46b6-beb8-ad25891fbeb5"
      },
      "execution_count": null,
      "outputs": [
        {
          "output_type": "stream",
          "name": "stderr",
          "text": [
            "/usr/local/lib/python3.7/dist-packages/seaborn/distributions.py:2619: FutureWarning: `distplot` is a deprecated function and will be removed in a future version. Please adapt your code to use either `displot` (a figure-level function with similar flexibility) or `histplot` (an axes-level function for histograms).\n",
            "  warnings.warn(msg, FutureWarning)\n"
          ]
        },
        {
          "output_type": "execute_result",
          "data": {
            "text/plain": [
              "<matplotlib.axes._subplots.AxesSubplot at 0x7f9c78b3d7d0>"
            ]
          },
          "metadata": {},
          "execution_count": 17
        },
        {
          "output_type": "display_data",
          "data": {
            "text/plain": [
              "<Figure size 432x288 with 1 Axes>"
            ],
            "image/png": "[encoded data removed]"
          },
          "metadata": {
            "needs_background": "light"
          }
        }
      ]
    },
    {
      "cell_type": "code",
      "source": [
        "transit[\n",
        "    (transit['days_difference']=='1-2 gün ərzində') &\n",
        "    (transit['mins_difference']=='1-2 saat')\n",
        "]"
      ],
      "metadata": {
        "id": "iUE1jpxW7pIM",
        "colab": {
          "base_uri": "https://localhost:8080/",
          "height": 157
        },
        "outputId": "83041603-6f34-4ceb-eafc-3e2db607fc7c"
      },
      "execution_count": null,
      "outputs": [
        {
          "output_type": "execute_result",
          "data": {
            "text/plain": [
              "Empty DataFrame\n",
              "Columns: [MƏNSUB. ÖLKƏSİ, AVTOMOBİLİN NÖVÜ/NÖMRƏSİ, GİRİŞ TARİXİ, GÖMRÜK ORQANI, YAZILMA TARİXİ, İCAZƏ BLANKININ NÖMRƏSİ, ÖDƏNİLƏN MƏBLƏĞ, İSTİ-QAMƏT, İCAZƏ BLANKI, GÜZƏŞT NÖVÜ, MALIN ÇƏKİSİ (kq), AVT. YÜKLƏ BİRLİKDƏ ÇƏKİSİ, HƏRƏKƏT MARŞRUTU, HƏR OXA DÜŞƏN ÇƏKİ, AVT. OXLARININ SAYI (AVTOBUSDA SƏRNİŞİN SAYI), Hərəkət marşrutu başlanğıc, Hərəkət marşrutu təyinat, Avtomobil nömrəsi, Malın çəkisi tonla, Avtomobil növü, Ayın yazılma günü, Günün yazılma saatı, Həftənin yazılma günü, Fərq (dəq.), Fərq (günlə), mins_difference, days_difference]\n",
              "Index: []\n",
              "\n",
              "[0 rows x 27 columns]"
            ],
            "text/html": [
              "\n",
              "  <div id=\"df-b123bc07-be86-4385-9c96-84ae38ef4cea\">\n",
              "    <div class=\"colab-df-container\">\n",
              "      <div>\n",
              "<style scoped>\n",
              "    .dataframe tbody tr th:only-of-type {\n",
              "        vertical-align: middle;\n",
              "    }\n",
              "\n",
              "    .dataframe tbody tr th {\n",
              "        vertical-align: top;\n",
              "    }\n",
              "\n",
              "    .dataframe thead th {\n",
              "        text-align: right;\n",
              "    }\n",
              "</style>\n",
              "<table border=\"1\" class=\"dataframe\">\n",
              "  <thead>\n",
              "    <tr style=\"text-align: right;\">\n",
              "      <th></th>\n",
              "      <th>MƏNSUB. ÖLKƏSİ</th>\n",
              "      <th>AVTOMOBİLİN NÖVÜ/NÖMRƏSİ</th>\n",
              "      <th>GİRİŞ TARİXİ</th>\n",
              "      <th>GÖMRÜK ORQANI</th>\n",
              "      <th>YAZILMA TARİXİ</th>\n",
              "      <th>İCAZƏ BLANKININ NÖMRƏSİ</th>\n",
              "      <th>ÖDƏNİLƏN MƏBLƏĞ</th>\n",
              "      <th>İSTİ-QAMƏT</th>\n",
              "      <th>İCAZƏ BLANKI</th>\n",
              "      <th>GÜZƏŞT NÖVÜ</th>\n",
              "      <th>...</th>\n",
              "      <th>Avtomobil nömrəsi</th>\n",
              "      <th>Malın çəkisi tonla</th>\n",
              "      <th>Avtomobil növü</th>\n",
              "      <th>Ayın yazılma günü</th>\n",
              "      <th>Günün yazılma saatı</th>\n",
              "      <th>Həftənin yazılma günü</th>\n",
              "      <th>Fərq (dəq.)</th>\n",
              "      <th>Fərq (günlə)</th>\n",
              "      <th>mins_difference</th>\n",
              "      <th>days_difference</th>\n",
              "    </tr>\n",
              "  </thead>\n",
              "  <tbody>\n",
              "  </tbody>\n",
              "</table>\n",
              "<p>0 rows × 27 columns</p>\n",
              "</div>\n",
              "      <button class=\"colab-df-convert\" onclick=\"convertToInteractive('df-b123bc07-be86-4385-9c96-84ae38ef4cea')\"\n",
              "              title=\"Convert this dataframe to an interactive table.\"\n",
              "              style=\"display:none;\">\n",
              "        \n",
              "  <svg xmlns=\"http://www.w3.org/2000/svg\" height=\"24px\"viewBox=\"0 0 24 24\"\n",
              "       width=\"24px\">\n",
              "    <path d=\"M0 0h24v24H0V0z\" fill=\"none\"/>\n",
              "    <path d=\"M18.56 5.44l.94 2.06.94-2.06 2.06-.94-2.06-.94-.94-2.06-.94 2.06-2.06.94zm-11 1L8.5 8.5l.94-2.06 2.06-.94-2.06-.94L8.5 2.5l-.94 2.06-2.06.94zm10 10l.94 2.06.94-2.06 2.06-.94-2.06-.94-.94-2.06-.94 2.06-2.06.94z\"/><path d=\"M17.41 7.96l-1.37-1.37c-.4-.4-.92-.59-1.43-.59-.52 0-1.04.2-1.43.59L10.3 9.45l-7.72 7.72c-.78.78-.78 2.05 0 2.83L4 21.41c.39.39.9.59 1.41.59.51 0 1.02-.2 1.41-.59l7.78-7.78 2.81-2.81c.8-.78.8-2.07 0-2.86zM5.41 20L4 18.59l7.72-7.72 1.47 1.35L5.41 20z\"/>\n",
              "  </svg>\n",
              "      </button>\n",
              "      \n",
              "  <style>\n",
              "    .colab-df-container {\n",
              "      display:flex;\n",
              "      flex-wrap:wrap;\n",
              "      gap: 12px;\n",
              "    }\n",
              "\n",
              "    .colab-df-convert {\n",
              "      background-color: #E8F0FE;\n",
              "      border: none;\n",
              "      border-radius: 50%;\n",
              "      cursor: pointer;\n",
              "      display: none;\n",
              "      fill: #1967D2;\n",
              "      height: 32px;\n",
              "      padding: 0 0 0 0;\n",
              "      width: 32px;\n",
              "    }\n",
              "\n",
              "    .colab-df-convert:hover {\n",
              "      background-color: #E2EBFA;\n",
              "      box-shadow: 0px 1px 2px rgba(60, 64, 67, 0.3), 0px 1px 3px 1px rgba(60, 64, 67, 0.15);\n",
              "      fill: #174EA6;\n",
              "    }\n",
              "\n",
              "    [theme=dark] .colab-df-convert {\n",
              "      background-color: #3B4455;\n",
              "      fill: #D2E3FC;\n",
              "    }\n",
              "\n",
              "    [theme=dark] .colab-df-convert:hover {\n",
              "      background-color: #434B5C;\n",
              "      box-shadow: 0px 1px 3px 1px rgba(0, 0, 0, 0.15);\n",
              "      filter: drop-shadow(0px 1px 2px rgba(0, 0, 0, 0.3));\n",
              "      fill: #FFFFFF;\n",
              "    }\n",
              "  </style>\n",
              "\n",
              "      <script>\n",
              "        const buttonEl =\n",
              "          document.querySelector('#df-b123bc07-be86-4385-9c96-84ae38ef4cea button.colab-df-convert');\n",
              "        buttonEl.style.display =\n",
              "          google.colab.kernel.accessAllowed ? 'block' : 'none';\n",
              "\n",
              "        async function convertToInteractive(key) {\n",
              "          const element = document.querySelector('#df-b123bc07-be86-4385-9c96-84ae38ef4cea');\n",
              "          const dataTable =\n",
              "            await google.colab.kernel.invokeFunction('convertToInteractive',\n",
              "                                                     [key], {});\n",
              "          if (!dataTable) return;\n",
              "\n",
              "          const docLinkHtml = 'Like what you see? Visit the ' +\n",
              "            '<a target=\"_blank\" href=https://colab.research.google.com/notebooks/data_table.ipynb>data table notebook</a>'\n",
              "            + ' to learn more about interactive tables.';\n",
              "          element.innerHTML = '';\n",
              "          dataTable['output_type'] = 'display_data';\n",
              "          await google.colab.output.renderOutput(dataTable, element);\n",
              "          const docLink = document.createElement('div');\n",
              "          docLink.innerHTML = docLinkHtml;\n",
              "          element.appendChild(docLink);\n",
              "        }\n",
              "      </script>\n",
              "    </div>\n",
              "  </div>\n",
              "  "
            ]
          },
          "metadata": {},
          "execution_count": 32
        }
      ]
    },
    {
      "cell_type": "code",
      "source": [
        "transit[~transit['days_difference'].isin(['Gün ərzində'])]"
      ],
      "metadata": {
        "colab": {
          "base_uri": "https://localhost:8080/",
          "height": 1000
        },
        "id": "GrPcXlR_ZIfn",
        "outputId": "65c2e920-f85d-409d-e4c7-590b475cf342"
      },
      "execution_count": null,
      "outputs": [
        {
          "output_type": "execute_result",
          "data": {
            "text/plain": [
              "                MƏNSUB. ÖLKƏSİ   AVTOMOBİLİN NÖVÜ/NÖMRƏSİ        GİRİŞ TARİXİ  \\\n",
              "5653              Türkmənistan  Yük avtomobili :- TDG2056 2021-11-26 18:26:27   \n",
              "19005  İran İslam Respublikası         Dartıcı :- 10AA273 2021-11-21 13:39:51   \n",
              "28278                Gürcüstan         Dartıcı :- NN355PP 2021-11-16 08:45:32   \n",
              "33598                Gürcüstan         Dartıcı :- VU480VV 2021-11-09 23:16:54   \n",
              "39441                Gürcüstan  Yük avtomobili :- PI421IP 2021-11-10 09:27:13   \n",
              "41826                  Türkiyə        Dartıcı :- 34HN7975 2021-11-04 13:51:13   \n",
              "\n",
              "                             GÖMRÜK ORQANI      YAZILMA TARİXİ  \\\n",
              "5653   Beynəlxalq Dəniz Ticarət Limanı g/p 2021-11-28 13:30:30   \n",
              "19005                        Şahtaxtı g/p 2021-11-22 14:04:07   \n",
              "28278                    Qırmızı körpü g/p 2021-11-17 20:59:17   \n",
              "33598                            Samur g/p 2021-11-15 11:55:05   \n",
              "39441  Beynəlxalq Dəniz Ticarət Limanı g/p 2021-11-12 14:15:02   \n",
              "41826                            Samur g/p 2021-11-11 13:11:26   \n",
              "\n",
              "       İCAZƏ BLANKININ NÖMRƏSİ  ÖDƏNİLƏN MƏBLƏĞ  İSTİ-QAMƏT  \\\n",
              "5653                         0                0           1   \n",
              "19005                   185404                0           1   \n",
              "28278                        0              100           1   \n",
              "33598                   176771                0           1   \n",
              "39441                   177464                0           1   \n",
              "41826                   140513                0           1   \n",
              "\n",
              "                                          İCAZƏ BLANKI         GÜZƏŞT NÖVÜ  \\\n",
              "5653   Yüklü giriş, yüksüz çıxış və tranzit keçid üçün  Digər azad olmalar   \n",
              "19005  Yüklü giriş, yüksüz çıxış və tranzit keçid üçün               Kvota   \n",
              "28278  Yüklü giriş, yüksüz çıxış və tranzit keçid üçün              Yoxdur   \n",
              "33598  Yüklü giriş, yüksüz çıxış və tranzit keçid üçün  Digər azad olmalar   \n",
              "39441  Yüklü giriş, yüksüz çıxış və tranzit keçid üçün               Kvota   \n",
              "41826  Yüklü giriş, yüksüz çıxış və tranzit keçid üçün  Digər azad olmalar   \n",
              "\n",
              "       ...  Avtomobil nömrəsi  Malın çəkisi tonla   Avtomobil növü  \\\n",
              "5653   ...            TDG2056            12.27000  Yük avtomobili    \n",
              "19005  ...            10AA273            16.74400         Dartıcı    \n",
              "28278  ...            NN355PP            13.70000         Dartıcı    \n",
              "33598  ...            VU480VV             8.80793         Dartıcı    \n",
              "39441  ...            PI421IP            19.78486  Yük avtomobili    \n",
              "41826  ...           34HN7975            21.75738         Dartıcı    \n",
              "\n",
              "      Ayın yazılma günü  Günün yazılma saatı Həftənin yazılma günü  \\\n",
              "5653                 28                   14                     7   \n",
              "19005                22                   15                     1   \n",
              "28278                17                   21                     3   \n",
              "33598                15                   12                     1   \n",
              "39441                12                   15                     5   \n",
              "41826                11                   14                     4   \n",
              "\n",
              "      Fərq (dəq.) Fərq (günlə)  mins_difference  days_difference  \n",
              "5653       2584.0          1.0   12 saatdan çox  1-2 gün ərzində  \n",
              "19005      1464.0          1.0   12 saatdan çox  1-2 gün ərzində  \n",
              "28278      2173.0          1.0   12 saatdan çox  1-2 gün ərzində  \n",
              "33598      7958.0          5.0   12 saatdan çox     5 gündən çox  \n",
              "39441      3167.0          2.0   12 saatdan çox  2-3 gün ərzində  \n",
              "41826     10040.0          6.0   12 saatdan çox     5 gündən çox  \n",
              "\n",
              "[6 rows x 27 columns]"
            ],
            "text/html": [
              "\n",
              "  <div id=\"df-b476b80c-0c57-47ec-887e-e025f7bf97f9\">\n",
              "    <div class=\"colab-df-container\">\n",
              "      <div>\n",
              "<style scoped>\n",
              "    .dataframe tbody tr th:only-of-type {\n",
              "        vertical-align: middle;\n",
              "    }\n",
              "\n",
              "    .dataframe tbody tr th {\n",
              "        vertical-align: top;\n",
              "    }\n",
              "\n",
              "    .dataframe thead th {\n",
              "        text-align: right;\n",
              "    }\n",
              "</style>\n",
              "<table border=\"1\" class=\"dataframe\">\n",
              "  <thead>\n",
              "    <tr style=\"text-align: right;\">\n",
              "      <th></th>\n",
              "      <th>MƏNSUB. ÖLKƏSİ</th>\n",
              "      <th>AVTOMOBİLİN NÖVÜ/NÖMRƏSİ</th>\n",
              "      <th>GİRİŞ TARİXİ</th>\n",
              "      <th>GÖMRÜK ORQANI</th>\n",
              "      <th>YAZILMA TARİXİ</th>\n",
              "      <th>İCAZƏ BLANKININ NÖMRƏSİ</th>\n",
              "      <th>ÖDƏNİLƏN MƏBLƏĞ</th>\n",
              "      <th>İSTİ-QAMƏT</th>\n",
              "      <th>İCAZƏ BLANKI</th>\n",
              "      <th>GÜZƏŞT NÖVÜ</th>\n",
              "      <th>...</th>\n",
              "      <th>Avtomobil nömrəsi</th>\n",
              "      <th>Malın çəkisi tonla</th>\n",
              "      <th>Avtomobil növü</th>\n",
              "      <th>Ayın yazılma günü</th>\n",
              "      <th>Günün yazılma saatı</th>\n",
              "      <th>Həftənin yazılma günü</th>\n",
              "      <th>Fərq (dəq.)</th>\n",
              "      <th>Fərq (günlə)</th>\n",
              "      <th>mins_difference</th>\n",
              "      <th>days_difference</th>\n",
              "    </tr>\n",
              "  </thead>\n",
              "  <tbody>\n",
              "    <tr>\n",
              "      <th>5653</th>\n",
              "      <td>Türkmənistan</td>\n",
              "      <td>Yük avtomobili :- TDG2056</td>\n",
              "      <td>2021-11-26 18:26:27</td>\n",
              "      <td>Beynəlxalq Dəniz Ticarət Limanı g/p</td>\n",
              "      <td>2021-11-28 13:30:30</td>\n",
              "      <td>0</td>\n",
              "      <td>0</td>\n",
              "      <td>1</td>\n",
              "      <td>Yüklü giriş, yüksüz çıxış və tranzit keçid üçün</td>\n",
              "      <td>Digər azad olmalar</td>\n",
              "      <td>...</td>\n",
              "      <td>TDG2056</td>\n",
              "      <td>12.27000</td>\n",
              "      <td>Yük avtomobili</td>\n",
              "      <td>28</td>\n",
              "      <td>14</td>\n",
              "      <td>7</td>\n",
              "      <td>2584.0</td>\n",
              "      <td>1.0</td>\n",
              "      <td>12 saatdan çox</td>\n",
              "      <td>1-2 gün ərzində</td>\n",
              "    </tr>\n",
              "    <tr>\n",
              "      <th>19005</th>\n",
              "      <td>İran İslam Respublikası</td>\n",
              "      <td>Dartıcı :- 10AA273</td>\n",
              "      <td>2021-11-21 13:39:51</td>\n",
              "      <td>Şahtaxtı g/p</td>\n",
              "      <td>2021-11-22 14:04:07</td>\n",
              "      <td>185404</td>\n",
              "      <td>0</td>\n",
              "      <td>1</td>\n",
              "      <td>Yüklü giriş, yüksüz çıxış və tranzit keçid üçün</td>\n",
              "      <td>Kvota</td>\n",
              "      <td>...</td>\n",
              "      <td>10AA273</td>\n",
              "      <td>16.74400</td>\n",
              "      <td>Dartıcı</td>\n",
              "      <td>22</td>\n",
              "      <td>15</td>\n",
              "      <td>1</td>\n",
              "      <td>1464.0</td>\n",
              "      <td>1.0</td>\n",
              "      <td>12 saatdan çox</td>\n",
              "      <td>1-2 gün ərzində</td>\n",
              "    </tr>\n",
              "    <tr>\n",
              "      <th>28278</th>\n",
              "      <td>Gürcüstan</td>\n",
              "      <td>Dartıcı :- NN355PP</td>\n",
              "      <td>2021-11-16 08:45:32</td>\n",
              "      <td>Qırmızı körpü g/p</td>\n",
              "      <td>2021-11-17 20:59:17</td>\n",
              "      <td>0</td>\n",
              "      <td>100</td>\n",
              "      <td>1</td>\n",
              "      <td>Yüklü giriş, yüksüz çıxış və tranzit keçid üçün</td>\n",
              "      <td>Yoxdur</td>\n",
              "      <td>...</td>\n",
              "      <td>NN355PP</td>\n",
              "      <td>13.70000</td>\n",
              "      <td>Dartıcı</td>\n",
              "      <td>17</td>\n",
              "      <td>21</td>\n",
              "      <td>3</td>\n",
              "      <td>2173.0</td>\n",
              "      <td>1.0</td>\n",
              "      <td>12 saatdan çox</td>\n",
              "      <td>1-2 gün ərzində</td>\n",
              "    </tr>\n",
              "    <tr>\n",
              "      <th>33598</th>\n",
              "      <td>Gürcüstan</td>\n",
              "      <td>Dartıcı :- VU480VV</td>\n",
              "      <td>2021-11-09 23:16:54</td>\n",
              "      <td>Samur g/p</td>\n",
              "      <td>2021-11-15 11:55:05</td>\n",
              "      <td>176771</td>\n",
              "      <td>0</td>\n",
              "      <td>1</td>\n",
              "      <td>Yüklü giriş, yüksüz çıxış və tranzit keçid üçün</td>\n",
              "      <td>Digər azad olmalar</td>\n",
              "      <td>...</td>\n",
              "      <td>VU480VV</td>\n",
              "      <td>8.80793</td>\n",
              "      <td>Dartıcı</td>\n",
              "      <td>15</td>\n",
              "      <td>12</td>\n",
              "      <td>1</td>\n",
              "      <td>7958.0</td>\n",
              "      <td>5.0</td>\n",
              "      <td>12 saatdan çox</td>\n",
              "      <td>5 gündən çox</td>\n",
              "    </tr>\n",
              "    <tr>\n",
              "      <th>39441</th>\n",
              "      <td>Gürcüstan</td>\n",
              "      <td>Yük avtomobili :- PI421IP</td>\n",
              "      <td>2021-11-10 09:27:13</td>\n",
              "      <td>Beynəlxalq Dəniz Ticarət Limanı g/p</td>\n",
              "      <td>2021-11-12 14:15:02</td>\n",
              "      <td>177464</td>\n",
              "      <td>0</td>\n",
              "      <td>1</td>\n",
              "      <td>Yüklü giriş, yüksüz çıxış və tranzit keçid üçün</td>\n",
              "      <td>Kvota</td>\n",
              "      <td>...</td>\n",
              "      <td>PI421IP</td>\n",
              "      <td>19.78486</td>\n",
              "      <td>Yük avtomobili</td>\n",
              "      <td>12</td>\n",
              "      <td>15</td>\n",
              "      <td>5</td>\n",
              "      <td>3167.0</td>\n",
              "      <td>2.0</td>\n",
              "      <td>12 saatdan çox</td>\n",
              "      <td>2-3 gün ərzində</td>\n",
              "    </tr>\n",
              "    <tr>\n",
              "      <th>41826</th>\n",
              "      <td>Türkiyə</td>\n",
              "      <td>Dartıcı :- 34HN7975</td>\n",
              "      <td>2021-11-04 13:51:13</td>\n",
              "      <td>Samur g/p</td>\n",
              "      <td>2021-11-11 13:11:26</td>\n",
              "      <td>140513</td>\n",
              "      <td>0</td>\n",
              "      <td>1</td>\n",
              "      <td>Yüklü giriş, yüksüz çıxış və tranzit keçid üçün</td>\n",
              "      <td>Digər azad olmalar</td>\n",
              "      <td>...</td>\n",
              "      <td>34HN7975</td>\n",
              "      <td>21.75738</td>\n",
              "      <td>Dartıcı</td>\n",
              "      <td>11</td>\n",
              "      <td>14</td>\n",
              "      <td>4</td>\n",
              "      <td>10040.0</td>\n",
              "      <td>6.0</td>\n",
              "      <td>12 saatdan çox</td>\n",
              "      <td>5 gündən çox</td>\n",
              "    </tr>\n",
              "  </tbody>\n",
              "</table>\n",
              "<p>6 rows × 27 columns</p>\n",
              "</div>\n",
              "      <button class=\"colab-df-convert\" onclick=\"convertToInteractive('df-b476b80c-0c57-47ec-887e-e025f7bf97f9')\"\n",
              "              title=\"Convert this dataframe to an interactive table.\"\n",
              "              style=\"display:none;\">\n",
              "        \n",
              "  <svg xmlns=\"http://www.w3.org/2000/svg\" height=\"24px\"viewBox=\"0 0 24 24\"\n",
              "       width=\"24px\">\n",
              "    <path d=\"M0 0h24v24H0V0z\" fill=\"none\"/>\n",
              "    <path d=\"M18.56 5.44l.94 2.06.94-2.06 2.06-.94-2.06-.94-.94-2.06-.94 2.06-2.06.94zm-11 1L8.5 8.5l.94-2.06 2.06-.94-2.06-.94L8.5 2.5l-.94 2.06-2.06.94zm10 10l.94 2.06.94-2.06 2.06-.94-2.06-.94-.94-2.06-.94 2.06-2.06.94z\"/><path d=\"M17.41 7.96l-1.37-1.37c-.4-.4-.92-.59-1.43-.59-.52 0-1.04.2-1.43.59L10.3 9.45l-7.72 7.72c-.78.78-.78 2.05 0 2.83L4 21.41c.39.39.9.59 1.41.59.51 0 1.02-.2 1.41-.59l7.78-7.78 2.81-2.81c.8-.78.8-2.07 0-2.86zM5.41 20L4 18.59l7.72-7.72 1.47 1.35L5.41 20z\"/>\n",
              "  </svg>\n",
              "      </button>\n",
              "      \n",
              "  <style>\n",
              "    .colab-df-container {\n",
              "      display:flex;\n",
              "      flex-wrap:wrap;\n",
              "      gap: 12px;\n",
              "    }\n",
              "\n",
              "    .colab-df-convert {\n",
              "      background-color: #E8F0FE;\n",
              "      border: none;\n",
              "      border-radius: 50%;\n",
              "      cursor: pointer;\n",
              "      display: none;\n",
              "      fill: #1967D2;\n",
              "      height: 32px;\n",
              "      padding: 0 0 0 0;\n",
              "      width: 32px;\n",
              "    }\n",
              "\n",
              "    .colab-df-convert:hover {\n",
              "      background-color: #E2EBFA;\n",
              "      box-shadow: 0px 1px 2px rgba(60, 64, 67, 0.3), 0px 1px 3px 1px rgba(60, 64, 67, 0.15);\n",
              "      fill: #174EA6;\n",
              "    }\n",
              "\n",
              "    [theme=dark] .colab-df-convert {\n",
              "      background-color: #3B4455;\n",
              "      fill: #D2E3FC;\n",
              "    }\n",
              "\n",
              "    [theme=dark] .colab-df-convert:hover {\n",
              "      background-color: #434B5C;\n",
              "      box-shadow: 0px 1px 3px 1px rgba(0, 0, 0, 0.15);\n",
              "      filter: drop-shadow(0px 1px 2px rgba(0, 0, 0, 0.3));\n",
              "      fill: #FFFFFF;\n",
              "    }\n",
              "  </style>\n",
              "\n",
              "      <script>\n",
              "        const buttonEl =\n",
              "          document.querySelector('#df-b476b80c-0c57-47ec-887e-e025f7bf97f9 button.colab-df-convert');\n",
              "        buttonEl.style.display =\n",
              "          google.colab.kernel.accessAllowed ? 'block' : 'none';\n",
              "\n",
              "        async function convertToInteractive(key) {\n",
              "          const element = document.querySelector('#df-b476b80c-0c57-47ec-887e-e025f7bf97f9');\n",
              "          const dataTable =\n",
              "            await google.colab.kernel.invokeFunction('convertToInteractive',\n",
              "                                                     [key], {});\n",
              "          if (!dataTable) return;\n",
              "\n",
              "          const docLinkHtml = 'Like what you see? Visit the ' +\n",
              "            '<a target=\"_blank\" href=https://colab.research.google.com/notebooks/data_table.ipynb>data table notebook</a>'\n",
              "            + ' to learn more about interactive tables.';\n",
              "          element.innerHTML = '';\n",
              "          dataTable['output_type'] = 'display_data';\n",
              "          await google.colab.output.renderOutput(dataTable, element);\n",
              "          const docLink = document.createElement('div');\n",
              "          docLink.innerHTML = docLinkHtml;\n",
              "          element.appendChild(docLink);\n",
              "        }\n",
              "      </script>\n",
              "    </div>\n",
              "  </div>\n",
              "  "
            ]
          },
          "metadata": {},
          "execution_count": 38
        }
      ]
    },
    {
      "cell_type": "code",
      "source": [
        "forecast_data = transit.groupby('Ayın yazılma günü').agg({'Ayın yazılma günü':'count'}).rename(columns={'Ayın yazılma günü':\"Say\"})"
      ],
      "metadata": {
        "id": "abKMLF0wdgOY"
      },
      "execution_count": null,
      "outputs": []
    },
    {
      "cell_type": "code",
      "source": [
        "forecast_data#.reset_index().iloc[:-7]"
      ],
      "metadata": {
        "colab": {
          "base_uri": "https://localhost:8080/",
          "height": 1000
        },
        "id": "Haw1ehNlv4s4",
        "outputId": "d536a94a-8739-4b5c-d9bb-9ef8a466c393"
      },
      "execution_count": null,
      "outputs": [
        {
          "output_type": "execute_result",
          "data": {
            "text/plain": [
              "                   Say\n",
              "Ayın yazılma günü     \n",
              "1                  343\n",
              "2                  475\n",
              "3                  447\n",
              "4                  424\n",
              "5                  521\n",
              "6                  441\n",
              "7                  414\n",
              "8                  354\n",
              "9                  370\n",
              "10                 385\n",
              "11                 417\n",
              "12                 515\n",
              "13                 428\n",
              "14                 291\n",
              "15                 402\n",
              "16                 405\n",
              "17                 355\n",
              "18                 370\n",
              "19                 390\n",
              "20                 393\n",
              "21                 392\n",
              "22                 405\n",
              "23                 469\n",
              "24                 509\n",
              "25                 478\n",
              "26                 514\n",
              "27                 481\n",
              "28                 450\n",
              "29                 415\n",
              "30                 461"
            ],
            "text/html": [
              "\n",
              "  <div id=\"df-7ee57ca6-09f2-4d8a-b97c-f5a421964b34\">\n",
              "    <div class=\"colab-df-container\">\n",
              "      <div>\n",
              "<style scoped>\n",
              "    .dataframe tbody tr th:only-of-type {\n",
              "        vertical-align: middle;\n",
              "    }\n",
              "\n",
              "    .dataframe tbody tr th {\n",
              "        vertical-align: top;\n",
              "    }\n",
              "\n",
              "    .dataframe thead th {\n",
              "        text-align: right;\n",
              "    }\n",
              "</style>\n",
              "<table border=\"1\" class=\"dataframe\">\n",
              "  <thead>\n",
              "    <tr style=\"text-align: right;\">\n",
              "      <th></th>\n",
              "      <th>Say</th>\n",
              "    </tr>\n",
              "    <tr>\n",
              "      <th>Ayın yazılma günü</th>\n",
              "      <th></th>\n",
              "    </tr>\n",
              "  </thead>\n",
              "  <tbody>\n",
              "    <tr>\n",
              "      <th>1</th>\n",
              "      <td>343</td>\n",
              "    </tr>\n",
              "    <tr>\n",
              "      <th>2</th>\n",
              "      <td>475</td>\n",
              "    </tr>\n",
              "    <tr>\n",
              "      <th>3</th>\n",
              "      <td>447</td>\n",
              "    </tr>\n",
              "    <tr>\n",
              "      <th>4</th>\n",
              "      <td>424</td>\n",
              "    </tr>\n",
              "    <tr>\n",
              "      <th>5</th>\n",
              "      <td>521</td>\n",
              "    </tr>\n",
              "    <tr>\n",
              "      <th>6</th>\n",
              "      <td>441</td>\n",
              "    </tr>\n",
              "    <tr>\n",
              "      <th>7</th>\n",
              "      <td>414</td>\n",
              "    </tr>\n",
              "    <tr>\n",
              "      <th>8</th>\n",
              "      <td>354</td>\n",
              "    </tr>\n",
              "    <tr>\n",
              "      <th>9</th>\n",
              "      <td>370</td>\n",
              "    </tr>\n",
              "    <tr>\n",
              "      <th>10</th>\n",
              "      <td>385</td>\n",
              "    </tr>\n",
              "    <tr>\n",
              "      <th>11</th>\n",
              "      <td>417</td>\n",
              "    </tr>\n",
              "    <tr>\n",
              "      <th>12</th>\n",
              "      <td>515</td>\n",
              "    </tr>\n",
              "    <tr>\n",
              "      <th>13</th>\n",
              "      <td>428</td>\n",
              "    </tr>\n",
              "    <tr>\n",
              "      <th>14</th>\n",
              "      <td>291</td>\n",
              "    </tr>\n",
              "    <tr>\n",
              "      <th>15</th>\n",
              "      <td>402</td>\n",
              "    </tr>\n",
              "    <tr>\n",
              "      <th>16</th>\n",
              "      <td>405</td>\n",
              "    </tr>\n",
              "    <tr>\n",
              "      <th>17</th>\n",
              "      <td>355</td>\n",
              "    </tr>\n",
              "    <tr>\n",
              "      <th>18</th>\n",
              "      <td>370</td>\n",
              "    </tr>\n",
              "    <tr>\n",
              "      <th>19</th>\n",
              "      <td>390</td>\n",
              "    </tr>\n",
              "    <tr>\n",
              "      <th>20</th>\n",
              "      <td>393</td>\n",
              "    </tr>\n",
              "    <tr>\n",
              "      <th>21</th>\n",
              "      <td>392</td>\n",
              "    </tr>\n",
              "    <tr>\n",
              "      <th>22</th>\n",
              "      <td>405</td>\n",
              "    </tr>\n",
              "    <tr>\n",
              "      <th>23</th>\n",
              "      <td>469</td>\n",
              "    </tr>\n",
              "    <tr>\n",
              "      <th>24</th>\n",
              "      <td>509</td>\n",
              "    </tr>\n",
              "    <tr>\n",
              "      <th>25</th>\n",
              "      <td>478</td>\n",
              "    </tr>\n",
              "    <tr>\n",
              "      <th>26</th>\n",
              "      <td>514</td>\n",
              "    </tr>\n",
              "    <tr>\n",
              "      <th>27</th>\n",
              "      <td>481</td>\n",
              "    </tr>\n",
              "    <tr>\n",
              "      <th>28</th>\n",
              "      <td>450</td>\n",
              "    </tr>\n",
              "    <tr>\n",
              "      <th>29</th>\n",
              "      <td>415</td>\n",
              "    </tr>\n",
              "    <tr>\n",
              "      <th>30</th>\n",
              "      <td>461</td>\n",
              "    </tr>\n",
              "  </tbody>\n",
              "</table>\n",
              "</div>\n",
              "      <button class=\"colab-df-convert\" onclick=\"convertToInteractive('df-7ee57ca6-09f2-4d8a-b97c-f5a421964b34')\"\n",
              "              title=\"Convert this dataframe to an interactive table.\"\n",
              "              style=\"display:none;\">\n",
              "        \n",
              "  <svg xmlns=\"http://www.w3.org/2000/svg\" height=\"24px\"viewBox=\"0 0 24 24\"\n",
              "       width=\"24px\">\n",
              "    <path d=\"M0 0h24v24H0V0z\" fill=\"none\"/>\n",
              "    <path d=\"M18.56 5.44l.94 2.06.94-2.06 2.06-.94-2.06-.94-.94-2.06-.94 2.06-2.06.94zm-11 1L8.5 8.5l.94-2.06 2.06-.94-2.06-.94L8.5 2.5l-.94 2.06-2.06.94zm10 10l.94 2.06.94-2.06 2.06-.94-2.06-.94-.94-2.06-.94 2.06-2.06.94z\"/><path d=\"M17.41 7.96l-1.37-1.37c-.4-.4-.92-.59-1.43-.59-.52 0-1.04.2-1.43.59L10.3 9.45l-7.72 7.72c-.78.78-.78 2.05 0 2.83L4 21.41c.39.39.9.59 1.41.59.51 0 1.02-.2 1.41-.59l7.78-7.78 2.81-2.81c.8-.78.8-2.07 0-2.86zM5.41 20L4 18.59l7.72-7.72 1.47 1.35L5.41 20z\"/>\n",
              "  </svg>\n",
              "      </button>\n",
              "      \n",
              "  <style>\n",
              "    .colab-df-container {\n",
              "      display:flex;\n",
              "      flex-wrap:wrap;\n",
              "      gap: 12px;\n",
              "    }\n",
              "\n",
              "    .colab-df-convert {\n",
              "      background-color: #E8F0FE;\n",
              "      border: none;\n",
              "      border-radius: 50%;\n",
              "      cursor: pointer;\n",
              "      display: none;\n",
              "      fill: #1967D2;\n",
              "      height: 32px;\n",
              "      padding: 0 0 0 0;\n",
              "      width: 32px;\n",
              "    }\n",
              "\n",
              "    .colab-df-convert:hover {\n",
              "      background-color: #E2EBFA;\n",
              "      box-shadow: 0px 1px 2px rgba(60, 64, 67, 0.3), 0px 1px 3px 1px rgba(60, 64, 67, 0.15);\n",
              "      fill: #174EA6;\n",
              "    }\n",
              "\n",
              "    [theme=dark] .colab-df-convert {\n",
              "      background-color: #3B4455;\n",
              "      fill: #D2E3FC;\n",
              "    }\n",
              "\n",
              "    [theme=dark] .colab-df-convert:hover {\n",
              "      background-color: #434B5C;\n",
              "      box-shadow: 0px 1px 3px 1px rgba(0, 0, 0, 0.15);\n",
              "      filter: drop-shadow(0px 1px 2px rgba(0, 0, 0, 0.3));\n",
              "      fill: #FFFFFF;\n",
              "    }\n",
              "  </style>\n",
              "\n",
              "      <script>\n",
              "        const buttonEl =\n",
              "          document.querySelector('#df-7ee57ca6-09f2-4d8a-b97c-f5a421964b34 button.colab-df-convert');\n",
              "        buttonEl.style.display =\n",
              "          google.colab.kernel.accessAllowed ? 'block' : 'none';\n",
              "\n",
              "        async function convertToInteractive(key) {\n",
              "          const element = document.querySelector('#df-7ee57ca6-09f2-4d8a-b97c-f5a421964b34');\n",
              "          const dataTable =\n",
              "            await google.colab.kernel.invokeFunction('convertToInteractive',\n",
              "                                                     [key], {});\n",
              "          if (!dataTable) return;\n",
              "\n",
              "          const docLinkHtml = 'Like what you see? Visit the ' +\n",
              "            '<a target=\"_blank\" href=https://colab.research.google.com/notebooks/data_table.ipynb>data table notebook</a>'\n",
              "            + ' to learn more about interactive tables.';\n",
              "          element.innerHTML = '';\n",
              "          dataTable['output_type'] = 'display_data';\n",
              "          await google.colab.output.renderOutput(dataTable, element);\n",
              "          const docLink = document.createElement('div');\n",
              "          docLink.innerHTML = docLinkHtml;\n",
              "          element.appendChild(docLink);\n",
              "        }\n",
              "      </script>\n",
              "    </div>\n",
              "  </div>\n",
              "  "
            ]
          },
          "metadata": {},
          "execution_count": 115
        }
      ]
    },
    {
      "cell_type": "code",
      "source": [
        "plt.plot(forecast_data)"
      ],
      "metadata": {
        "colab": {
          "base_uri": "https://localhost:8080/",
          "height": 283
        },
        "id": "JGumLT7evjiB",
        "outputId": "0e2df3f9-a19e-42a0-c09d-86f714694d70"
      },
      "execution_count": null,
      "outputs": [
        {
          "output_type": "execute_result",
          "data": {
            "text/plain": [
              "[<matplotlib.lines.Line2D at 0x7f895c72ce90>]"
            ]
          },
          "metadata": {},
          "execution_count": 89
        },
        {
          "output_type": "display_data",
          "data": {
            "text/plain": [
              "<Figure size 432x288 with 1 Axes>"
            ],
            "image/png": "[encoded data removed]"
          },
          "metadata": {}
        }
      ]
    },
    {
      "cell_type": "code",
      "source": [
        "from statsmodels.tsa.holtwinters import ExponentialSmoothing\n",
        "final_model = ExponentialSmoothing(forecast_data['Say']#.iloc[:-7]\n",
        "                                   ,\n",
        "                                   trend='mul',seasonal='mul',seasonal_periods=7).fit()\n",
        "# forecast_predictions = final_model.forecast(121)"
      ],
      "metadata": {
        "colab": {
          "base_uri": "https://localhost:8080/"
        },
        "id": "B3pdUcg1vrOt",
        "outputId": "d6175041-d8fd-4e4c-afc4-7dcc4f0dc7aa"
      },
      "execution_count": null,
      "outputs": [
        {
          "output_type": "stream",
          "name": "stderr",
          "text": [
            "/usr/local/lib/python3.7/dist-packages/statsmodels/tsa/base/tsa_model.py:215: ValueWarning: An unsupported index was provided and will be ignored when e.g. forecasting.\n",
            "  ' ignored when e.g. forecasting.', ValueWarning)\n"
          ]
        }
      ]
    },
    {
      "cell_type": "code",
      "source": [
        "forecast = final_model.forecast(8)"
      ],
      "metadata": {
        "colab": {
          "base_uri": "https://localhost:8080/"
        },
        "id": "MuCw4-SqwdMl",
        "outputId": "e72ddab1-f63a-413d-9146-194bb9423e33"
      },
      "execution_count": null,
      "outputs": [
        {
          "output_type": "stream",
          "name": "stderr",
          "text": [
            "/usr/local/lib/python3.7/dist-packages/statsmodels/tsa/base/tsa_model.py:576: ValueWarning: No supported index is available. Prediction results will be given with an integer index beginning at `start`.\n",
            "  ValueWarning)\n"
          ]
        }
      ]
    },
    {
      "cell_type": "code",
      "source": [
        "forecast"
      ],
      "metadata": {
        "colab": {
          "base_uri": "https://localhost:8080/"
        },
        "id": "nK3ecWUzyKZa",
        "outputId": "d10b39f5-2c88-489d-fa91-5926ed3e0400"
      },
      "execution_count": null,
      "outputs": [
        {
          "output_type": "execute_result",
          "data": {
            "text/plain": [
              "30    471.314129\n",
              "31    468.043214\n",
              "32    538.283065\n",
              "33    481.894171\n",
              "34    427.641302\n",
              "35    421.413028\n",
              "36    479.512406\n",
              "37    478.873957\n",
              "dtype: float64"
            ]
          },
          "metadata": {},
          "execution_count": 113
        }
      ]
    },
    {
      "cell_type": "code",
      "source": [
        "forecast_data['Say'].plot(figsize=(16,8))\n",
        "forecast.plot()"
      ],
      "metadata": {
        "colab": {
          "base_uri": "https://localhost:8080/",
          "height": 518
        },
        "id": "33V-Q5ZbxeZU",
        "outputId": "e2910825-0a8f-4192-ad37-aa0e6f52dd10"
      },
      "execution_count": null,
      "outputs": [
        {
          "output_type": "execute_result",
          "data": {
            "text/plain": [
              "<matplotlib.axes._subplots.AxesSubplot at 0x7f895c5264d0>"
            ]
          },
          "metadata": {},
          "execution_count": 112
        },
        {
          "output_type": "display_data",
          "data": {
            "text/plain": [
              "<Figure size 1152x576 with 1 Axes>"
            ],
            "image/png": "[encoded data removed]"
          },
          "metadata": {}
        }
      ]
    },
    {
      "cell_type": "code",
      "source": [
        ""
      ],
      "metadata": {
        "id": "tWn7QpI3x9Zo"
      },
      "execution_count": null,
      "outputs": []
    }
  ]
}